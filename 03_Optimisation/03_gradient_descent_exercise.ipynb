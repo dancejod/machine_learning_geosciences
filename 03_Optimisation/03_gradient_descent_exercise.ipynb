{
 "cells": [
  {
   "cell_type": "markdown",
   "id": "0e0da72a",
   "metadata": {},
   "source": [
    "# Gradient Descent Exercise"
   ]
  },
  {
   "cell_type": "markdown",
   "id": "c934815c",
   "metadata": {},
   "source": [
    "The **goal** of this exercise is to practice Gradient Descent optimisation algorithm. The task is to find parameters of a linear regression model with  gradient descent algorithm. See below more details. "
   ]
  },
  {
   "cell_type": "code",
   "execution_count": 1,
   "id": "6bb022f0",
   "metadata": {},
   "outputs": [],
   "source": [
    "# import needed packages\n",
    "pass"
   ]
  },
  {
   "cell_type": "code",
   "execution_count": 29,
   "id": "b009cb3e",
   "metadata": {},
   "outputs": [],
   "source": [
    "# import data \n",
    "# ./machine_learning_geosciences/03_Optimisation/data_ex.txt \n",
    "# first column represents x, second column represnts y\n",
    "pass"
   ]
  },
  {
   "cell_type": "code",
   "execution_count": 30,
   "id": "ad580189",
   "metadata": {},
   "outputs": [],
   "source": [
    "# check the content of the imported data \n",
    "pass"
   ]
  },
  {
   "cell_type": "code",
   "execution_count": 31,
   "id": "3cfb5e4f",
   "metadata": {},
   "outputs": [],
   "source": [
    "# plot the input data \n",
    "pass"
   ]
  },
  {
   "cell_type": "code",
   "execution_count": null,
   "id": "8502d74c",
   "metadata": {},
   "outputs": [],
   "source": []
  },
  {
   "cell_type": "markdown",
   "id": "d046606a",
   "metadata": {},
   "source": [
    "### Task: \n",
    "We want to build a regression model that we can use to predict `y` based on other `x`values. Each row in the dataset represents one specific record. \n",
    "Imagine e.g. how glacier velocity flow increases with increase of seasonal temperature. Suppose the relationship is linear, for this case of illustaration. "
   ]
  },
  {
   "cell_type": "markdown",
   "id": "f0e84813",
   "metadata": {},
   "source": [
    "### Linear regression model \n",
    "\n",
    "Reminder: \n",
    "$$ \n",
    "    f(x) = wx + b\n",
    "$$ \n",
    "\n",
    "where `x` is a vector of input features;\n",
    "`y` is a vector of outputs (targets), also response variable; \n",
    "`b` is the bias term (intercept), also often abbreviated as w0\n",
    "`w` is the weight(s) (direction of the linear model) \n",
    "\n",
    "We do not know what the optimal values of w and b are and we want to learn them from data! "
   ]
  },
  {
   "cell_type": "markdown",
   "id": "fb5cfaca",
   "metadata": {},
   "source": [
    "**Goal**: find such values of `w` and `b` that minimize the mean squre error (the loss)! \n",
    "\n",
    "$$\n",
    "    Loss = L = \\frac{1}{N} \\sum_{i=1}^{N}(y_i - (wx_i + b))^2 \n",
    "$$ \n"
   ]
  },
  {
   "cell_type": "code",
   "execution_count": 22,
   "id": "1f01e070",
   "metadata": {},
   "outputs": [],
   "source": [
    "# define the update function of the gradient descent \n",
    "pass "
   ]
  },
  {
   "cell_type": "code",
   "execution_count": 23,
   "id": "cd7ab52b",
   "metadata": {},
   "outputs": [],
   "source": [
    "# define gradient descent iterative function using the above defined update\n",
    "# add prints of the parameters updates\n",
    "# plot the gradual change of the model against the input data \n",
    "\n",
    "pass"
   ]
  },
  {
   "cell_type": "code",
   "execution_count": 24,
   "id": "92fd32c1",
   "metadata": {},
   "outputs": [],
   "source": [
    "# define the loss function, here MSE \n",
    "pass "
   ]
  },
  {
   "cell_type": "code",
   "execution_count": 25,
   "id": "ee598d0f",
   "metadata": {},
   "outputs": [],
   "source": [
    "# define prediction model (linear)\n",
    "pass "
   ]
  },
  {
   "cell_type": "code",
   "execution_count": 32,
   "id": "37e12700",
   "metadata": {},
   "outputs": [],
   "source": [
    "# select inital parameters and train the model \n",
    "pass"
   ]
  },
  {
   "cell_type": "code",
   "execution_count": 33,
   "id": "14fa2593",
   "metadata": {},
   "outputs": [],
   "source": [
    "# print the resulting coeficients \n",
    "pass"
   ]
  },
  {
   "cell_type": "code",
   "execution_count": 34,
   "id": "81e1e86b",
   "metadata": {},
   "outputs": [],
   "source": [
    "# test the result on new value of x \n",
    "pass"
   ]
  },
  {
   "cell_type": "markdown",
   "id": "8bc7710d",
   "metadata": {},
   "source": [
    "### EXERCISES\n",
    "\n",
    "1/ Improve the Gradient descent function: store history of loss. \n",
    "\n",
    "2/ Plot the loss against the epoches. \n",
    "\n",
    "3/ Store the history of w and b paramseters.  \n",
    "\n",
    "4/ Plot w and b against the epochos  \n",
    "\n",
    "5/ Evaluate the plots \n",
    "\n",
    "6/ What number of epoches is suitable for this task? \n",
    "\n",
    "7/ Change manualy alpha (learning rate). Identify suitable number. \n",
    "\n",
    "8/ Create a procedure to find optimal learning rate (systematicaly). "
   ]
  }
 ],
 "metadata": {
  "kernelspec": {
   "display_name": "Python 3 (ipykernel)",
   "language": "python",
   "name": "python3"
  },
  "language_info": {
   "codemirror_mode": {
    "name": "ipython",
    "version": 3
   },
   "file_extension": ".py",
   "mimetype": "text/x-python",
   "name": "python",
   "nbconvert_exporter": "python",
   "pygments_lexer": "ipython3",
   "version": "3.9.10"
  }
 },
 "nbformat": 4,
 "nbformat_minor": 5
}
