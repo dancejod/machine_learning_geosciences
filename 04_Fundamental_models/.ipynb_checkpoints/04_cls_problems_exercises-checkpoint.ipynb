{
 "cells": [
  {
   "cell_type": "markdown",
   "metadata": {},
   "source": [
    "___\n",
    "\n",
    "# Machine Learning in Geosciences ] \n",
    "Department of Applied Geoinformatics and Carthography, Charles University\n",
    "\n",
    "Lukas Brodsky lukas.brodsky@natur.cuni.cz\n"
   ]
  },
  {
   "cell_type": "markdown",
   "metadata": {},
   "source": [
    "## Exercise: apply different ML algorithms to different classification problems\n"
   ]
  },
  {
   "cell_type": "markdown",
   "metadata": {},
   "source": [
    "Purpose: explore selected classification algoritms based on simulated synthetic data set. \n"
   ]
  },
  {
   "cell_type": "markdown",
   "metadata": {},
   "source": [
    "# Setup"
   ]
  },
  {
   "cell_type": "code",
   "execution_count": null,
   "metadata": {},
   "outputs": [],
   "source": [
    "# Common imports for reading, visualizing\n",
    "import os\n",
    "import numpy as np\n",
    "import pandas as pd\n",
    "import matplotlib.pyplot as plt\n",
    "\n",
    "# data preparattion \n",
    "from sklearn.datasets import make_classification # make_blobs\n",
    "from sklearn.datasets import make_moons\n",
    "from sklearn.datasets import make_circles\n",
    "\n",
    "from sklearn.model_selection import train_test_split\n",
    "\n",
    "# Classifiers: \n",
    "\n",
    "# LINEAR\n",
    "from sklearn.linear_model import LogisticRegression\n",
    "# TREES\n",
    "from sklearn.tree import DecisionTreeClassifier\n",
    "# from sklearn.ensemble import RandomForestClassifier\n",
    "# SVM \n",
    "from sklearn.svm import LinearSVC\n",
    "from sklearn.svm import SVC\n",
    "# ANN \n",
    "from sklearn.neural_network import MLPClassifier\n",
    "\n",
    "# Accuracy assesment \n",
    "from sklearn import metrics\n",
    "\n",
    "# tuning -> manual, so far \n",
    "\n",
    "# to make this notebook's output stable across runs\n",
    "np.random.seed(42)\n",
    "\n",
    "# To plot pretty figures\n",
    "%matplotlib inline\n",
    "import matplotlib as mpl\n",
    "import matplotlib.pyplot as plt\n",
    "mpl.rc('axes', labelsize=14)\n",
    "mpl.rc('xtick', labelsize=12)\n",
    "mpl.rc('ytick', labelsize=12)"
   ]
  },
  {
   "cell_type": "markdown",
   "metadata": {},
   "source": [
    "## Get the simulated data\n"
   ]
  },
  {
   "cell_type": "markdown",
   "metadata": {},
   "source": [
    "### Data set 1"
   ]
  },
  {
   "cell_type": "code",
   "execution_count": null,
   "metadata": {},
   "outputs": [],
   "source": [
    "# create synthetic data set 1\n",
    "X1, y1 = make_classification(n_samples = 1000, n_features = 10, n_informative = 5, n_redundant = 5, \n",
    "                          class_sep = 3, n_clusters_per_class=1, \n",
    "                          random_state = 42, shuffle = True) "
   ]
  },
  {
   "cell_type": "code",
   "execution_count": null,
   "metadata": {},
   "outputs": [],
   "source": [
    "plt.plot(X1[(y1==0),0], X1[(y1==0),1], 'r.')\n",
    "plt.plot(X1[(y1==1),0], X1[(y1==1),1], 'b.')"
   ]
  },
  {
   "cell_type": "code",
   "execution_count": null,
   "metadata": {},
   "outputs": [],
   "source": [
    "# Numpy array to pandas dataframe\n",
    "features = [f\"Feature {ii+1}\" for ii in range(X1.shape[1])]\n",
    "X1 = pd.DataFrame(X1, columns = features)\n",
    "y1 = pd.DataFrame(y1, columns = [\"Target\"])"
   ]
  },
  {
   "cell_type": "code",
   "execution_count": null,
   "metadata": {},
   "outputs": [],
   "source": [
    "X1.head()"
   ]
  },
  {
   "cell_type": "markdown",
   "metadata": {},
   "source": [
    "### Data set 2"
   ]
  },
  {
   "cell_type": "code",
   "execution_count": null,
   "metadata": {},
   "outputs": [],
   "source": [
    "# create synthetic data set 1\n",
    "X2, y2 = make_classification(n_samples = 1000, n_features = 10, n_informative = 5, n_redundant = 5, \n",
    "                          class_sep = 1, n_clusters_per_class=1, \n",
    "                          random_state = 42, shuffle = True) "
   ]
  },
  {
   "cell_type": "code",
   "execution_count": null,
   "metadata": {},
   "outputs": [],
   "source": [
    "plt.plot(X2[(y2==0),0], X2[(y2==0),1], 'r.')\n",
    "plt.plot(X2[(y2==1),0], X2[(y2==1),1], 'b.')"
   ]
  },
  {
   "cell_type": "code",
   "execution_count": null,
   "metadata": {},
   "outputs": [],
   "source": [
    "# Numpy array to pandas dataframe\n",
    "features = [f\"Feature {ii+1}\" for ii in range(X2.shape[1])]\n",
    "X2 = pd.DataFrame(X2, columns = features)\n",
    "y2 = pd.DataFrame(y2, columns = [\"Target\"])"
   ]
  },
  {
   "cell_type": "code",
   "execution_count": null,
   "metadata": {},
   "outputs": [],
   "source": [
    "X2.head()"
   ]
  },
  {
   "cell_type": "markdown",
   "metadata": {},
   "source": [
    "### Data set 3"
   ]
  },
  {
   "cell_type": "code",
   "execution_count": null,
   "metadata": {},
   "outputs": [],
   "source": [
    "X3, y3 = make_moons(n_samples=1000,  noise=0.1)\n"
   ]
  },
  {
   "cell_type": "code",
   "execution_count": null,
   "metadata": {},
   "outputs": [],
   "source": [
    "plt.plot(X3[(y3==0),0], X3[(y3==0),1], 'r.')\n",
    "plt.plot(X3[(y3==1),0], X3[(y3==1),1], 'b.')"
   ]
  },
  {
   "cell_type": "code",
   "execution_count": null,
   "metadata": {},
   "outputs": [],
   "source": [
    "# Numpy array to pandas dataframe\n",
    "features = [f\"Feature {ii+1}\" for ii in range(X3.shape[1])]\n",
    "X3 = pd.DataFrame(X3, columns = features)\n",
    "y3 = pd.DataFrame(y3, columns = [\"Target\"])"
   ]
  },
  {
   "cell_type": "code",
   "execution_count": null,
   "metadata": {},
   "outputs": [],
   "source": [
    "X3.head()"
   ]
  },
  {
   "cell_type": "markdown",
   "metadata": {},
   "source": [
    "### Data set 4"
   ]
  },
  {
   "cell_type": "code",
   "execution_count": null,
   "metadata": {},
   "outputs": [],
   "source": [
    "X4, y4 = make_moons(n_samples=1000,  noise=0.3)"
   ]
  },
  {
   "cell_type": "code",
   "execution_count": null,
   "metadata": {},
   "outputs": [],
   "source": [
    "plt.plot(X4[(y4==0),0], X4[(y4==0),1], 'r.')\n",
    "plt.plot(X4[(y4==1),0], X4[(y4==1),1], 'b.')"
   ]
  },
  {
   "cell_type": "code",
   "execution_count": null,
   "metadata": {},
   "outputs": [],
   "source": [
    "# Numpy array to pandas dataframe\n",
    "features = [f\"Feature {ii+1}\" for ii in range(X4.shape[1])]\n",
    "X4 = pd.DataFrame(X4, columns = features)\n",
    "y4 = pd.DataFrame(y4, columns = [\"Target\"])"
   ]
  },
  {
   "cell_type": "code",
   "execution_count": null,
   "metadata": {},
   "outputs": [],
   "source": [
    "X4.head()"
   ]
  },
  {
   "cell_type": "markdown",
   "metadata": {},
   "source": [
    "### Data set 5"
   ]
  },
  {
   "cell_type": "code",
   "execution_count": null,
   "metadata": {},
   "outputs": [],
   "source": [
    "X5, y5 = make_circles(n_samples=1000, noise=0.09)\n"
   ]
  },
  {
   "cell_type": "code",
   "execution_count": null,
   "metadata": {},
   "outputs": [],
   "source": [
    "plt.plot(X5[(y5==0),0], X5[(y5==0),1], 'r.')\n",
    "plt.plot(X5[(y5==1),0], X5[(y5==1),1], 'b.')"
   ]
  },
  {
   "cell_type": "code",
   "execution_count": null,
   "metadata": {},
   "outputs": [],
   "source": []
  },
  {
   "cell_type": "markdown",
   "metadata": {},
   "source": [
    "## Create train and test set    "
   ]
  },
  {
   "cell_type": "code",
   "execution_count": null,
   "metadata": {},
   "outputs": [],
   "source": [
    "# test 20 % \n",
    "pass"
   ]
  },
  {
   "cell_type": "markdown",
   "metadata": {},
   "source": [
    "## Select clasifiers & instantiate"
   ]
  },
  {
   "cell_type": "code",
   "execution_count": null,
   "metadata": {},
   "outputs": [],
   "source": [
    "# instantiate classifiers \n",
    "\n",
    "# logistic regression\n",
    "# log_clf = pass\n",
    "\n",
    "# SVM (suppor vector classifier) \n",
    "# lsvc_cls = pass\n",
    "# nsvc_cls = pass\n",
    "\n",
    "# Decision trees\n",
    "# dt_clf = pass\n",
    "\n",
    "# MLP ANN \n",
    "# mlp_clf = pass "
   ]
  },
  {
   "cell_type": "code",
   "execution_count": null,
   "metadata": {},
   "outputs": [],
   "source": [
    "# here are predefined (advised) set of hyper-parameters to select from \n",
    "\n",
    "# Logistic regression\n",
    "log_param_grid = [{\n",
    "                    'penalty': [\"l1\", \"l2\"]\n",
    "                    }]\n",
    "\n",
    "# SVM\n",
    "lsvc_param_grid = [{\n",
    "                    \"C\": [0.0001, 0.001, 0.01, 0.1, 1.0, 10, 100]\n",
    "                    }]\n",
    "\n",
    "# Non-linear SVM \n",
    "nsvc_param_grid = [{\n",
    "                     \"kernel\": [\"linear\", \"rbf\", \"poly\"],\n",
    "                     \"gamma\": [\"auto\"],\n",
    "                     \"C\": [0.1, 0.5, 1, 5, 10, 50, 100] \n",
    "                    }]\n",
    "\n",
    "# Tree classifiers\n",
    "dt_param_grid = [{\n",
    "                    \"max_depth\" : [2, 5, 10],\n",
    "                    # \"criterion\": [\"gini\", \"entropy\"], \n",
    "                    \"min_samples_split\": [0.01, 0.05, 0.10],\n",
    "                    \"min_samples_leaf\": [0.01, 0.05, 0.10]\n",
    "                   }]\n",
    "# MLP ANN\n",
    "ann_param_grid = [{\n",
    "                    \"hidden_layer_sizes\": [2, 10, 20, 50],\n",
    "                    \"learning_rate\": ['constant',  'adaptive'], \n",
    "                    \"learning_rate_init\": [0.0001, 0.001, 0.01, 0.1], \n",
    "                    \"max_iter\": [200], \n",
    "                    \"early_stopping\": [True, False] \n",
    "                    }]"
   ]
  },
  {
   "cell_type": "markdown",
   "metadata": {},
   "source": [
    "## Tune the classifier (manually) "
   ]
  },
  {
   "cell_type": "code",
   "execution_count": null,
   "metadata": {},
   "outputs": [],
   "source": [
    "pass\n"
   ]
  },
  {
   "cell_type": "markdown",
   "metadata": {},
   "source": [
    "## Evaluate the model(s)"
   ]
  },
  {
   "cell_type": "code",
   "execution_count": null,
   "metadata": {},
   "outputs": [],
   "source": [
    "pass"
   ]
  },
  {
   "cell_type": "code",
   "execution_count": null,
   "metadata": {},
   "outputs": [],
   "source": []
  },
  {
   "cell_type": "code",
   "execution_count": null,
   "metadata": {},
   "outputs": [],
   "source": [
    "# Which model works well for the data set 1, 2, 3, 4 and 5? "
   ]
  }
 ],
 "metadata": {
  "kernelspec": {
   "display_name": "Python 3 (ipykernel)",
   "language": "python",
   "name": "python3"
  },
  "language_info": {
   "codemirror_mode": {
    "name": "ipython",
    "version": 3
   },
   "file_extension": ".py",
   "mimetype": "text/x-python",
   "name": "python",
   "nbconvert_exporter": "python",
   "pygments_lexer": "ipython3",
   "version": "3.9.10"
  },
  "nav_menu": {
   "height": "252px",
   "width": "333px"
  },
  "toc": {
   "navigate_menu": true,
   "number_sections": true,
   "sideBar": true,
   "threshold": 6,
   "toc_cell": false,
   "toc_section_display": "block",
   "toc_window_display": false
  }
 },
 "nbformat": 4,
 "nbformat_minor": 1
}
