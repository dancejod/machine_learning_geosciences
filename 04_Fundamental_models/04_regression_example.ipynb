{
 "cells": [
  {
   "cell_type": "markdown",
   "id": "b20e1d88",
   "metadata": {},
   "source": [
    "# Machine Learning Regression example"
   ]
  },
  {
   "cell_type": "markdown",
   "id": "2ec1a2b9",
   "metadata": {},
   "source": [
    "In this Machine Learning example Scikit-learn library is used to develop machine learning model for regression type of problem. Here we will be implementing linear and non-linear models to fit synthetic simulated data. "
   ]
  },
  {
   "cell_type": "markdown",
   "id": "8d1a1dc9",
   "metadata": {},
   "source": [
    "##### Problem definition:\n",
    "Develop predictive Machine Learning nonlinear regression model to predict taget variable (y) based on independent variable (x).  "
   ]
  },
  {
   "cell_type": "markdown",
   "id": "456ba68b",
   "metadata": {},
   "source": [
    "### 1. Import Python packages"
   ]
  },
  {
   "cell_type": "code",
   "execution_count": null,
   "id": "1c4e8395",
   "metadata": {},
   "outputs": [],
   "source": [
    "import pandas as pd\n",
    "import numpy as np\n",
    "import matplotlib.pyplot as plt\n",
    "%matplotlib inline \n",
    "import seaborn as sns\n",
    "from sklearn.model_selection import train_test_split\n",
    "from sklearn.linear_model import LinearRegression\n",
    "from sklearn.tree import DecisionTreeRegressor\n",
    "from sklearn.svm import SVR\n",
    "from sklearn.metrics import mean_squared_error \n",
    "from sklearn.metrics import mean_absolute_error"
   ]
  },
  {
   "cell_type": "markdown",
   "id": "220852c1",
   "metadata": {},
   "source": [
    "### 2. Generate data"
   ]
  },
  {
   "cell_type": "code",
   "execution_count": null,
   "id": "15c6e1fa",
   "metadata": {},
   "outputs": [],
   "source": [
    "# X = np.sort(5 * np.random.rand(40, 1), axis=0)\n",
    "# y = np.sin(X).ravel()\n",
    "# y[::5] += 3 * (0.5 - np.random.rand(8))"
   ]
  },
  {
   "cell_type": "code",
   "execution_count": null,
   "id": "c7f18f41",
   "metadata": {},
   "outputs": [],
   "source": [
    "X = np.sort(5 * np.random.rand(140, 1), axis=0)\n",
    "y = np.sin(X).ravel()"
   ]
  },
  {
   "cell_type": "code",
   "execution_count": null,
   "id": "b926307f",
   "metadata": {},
   "outputs": [],
   "source": [
    "# add noise to targets\n",
    "y += (0.3 * np.random.rand(len(y)))\n",
    "y[::5] += 3 * (0.2 - np.random.rand(28))"
   ]
  },
  {
   "cell_type": "code",
   "execution_count": null,
   "id": "399a06ab",
   "metadata": {},
   "outputs": [],
   "source": [
    "X.shape"
   ]
  },
  {
   "cell_type": "code",
   "execution_count": null,
   "id": "9ddeaaed",
   "metadata": {},
   "outputs": [],
   "source": [
    "y.shape"
   ]
  },
  {
   "cell_type": "markdown",
   "id": "4d6ada53",
   "metadata": {},
   "source": [
    "### 3. Visualize the data"
   ]
  },
  {
   "cell_type": "code",
   "execution_count": null,
   "id": "1afd58ca",
   "metadata": {},
   "outputs": [],
   "source": [
    "dataset = pd.DataFrame({'x': X[:,0], 'y': y}, columns=['x', 'y'])"
   ]
  },
  {
   "cell_type": "code",
   "execution_count": null,
   "id": "1485c70c",
   "metadata": {},
   "outputs": [],
   "source": [
    "sns.scatterplot(data=dataset, x=\"x\", y=\"y\")"
   ]
  },
  {
   "cell_type": "markdown",
   "id": "07e682e5",
   "metadata": {},
   "source": [
    "### 4. Split the data into train and test sets"
   ]
  },
  {
   "cell_type": "code",
   "execution_count": null,
   "id": "88f44845",
   "metadata": {},
   "outputs": [],
   "source": [
    "X_train, X_test, y_train, y_test = train_test_split(X , y, test_size = 0.1, random_state = 42)\n",
    "\n",
    "print(\"Training set \", X_train.shape)\n",
    "print(\"Testing set \", X_test.shape)"
   ]
  },
  {
   "cell_type": "markdown",
   "id": "f7b13490",
   "metadata": {},
   "source": [
    "### 5. Fit the model "
   ]
  },
  {
   "cell_type": "code",
   "execution_count": null,
   "id": "bfca0f38",
   "metadata": {},
   "outputs": [],
   "source": [
    "# create an instance of the model \n",
    "# regressor = DecisionTreeRegressor()\n",
    "# TODO later regressor = SVR(kernel=\"linear\")\n",
    "regressor = DecisionTreeRegressor()"
   ]
  },
  {
   "cell_type": "code",
   "execution_count": null,
   "id": "a69452dd",
   "metadata": {},
   "outputs": [],
   "source": [
    "# fit the model over the training datafrom sklearn.svm import SVR\n",
    "regressor.fit(X_train, y_train)"
   ]
  },
  {
   "cell_type": "markdown",
   "id": "c8cd93fc",
   "metadata": {},
   "source": [
    "### 6. Evaluate the model"
   ]
  },
  {
   "cell_type": "code",
   "execution_count": null,
   "id": "41cf19ad",
   "metadata": {},
   "outputs": [],
   "source": [
    "y_pred = regressor.predict(X_test)"
   ]
  },
  {
   "cell_type": "code",
   "execution_count": null,
   "id": "6788343e",
   "metadata": {},
   "outputs": [],
   "source": [
    "mean_squared_error(y_test, y_pred)"
   ]
  },
  {
   "cell_type": "code",
   "execution_count": null,
   "id": "a7d27720",
   "metadata": {},
   "outputs": [],
   "source": [
    "mean_absolute_error(y_test, y_pred)"
   ]
  },
  {
   "cell_type": "markdown",
   "id": "3d9df5b5",
   "metadata": {},
   "source": [
    "### 7. Visualize the model over the scatterplot "
   ]
  },
  {
   "cell_type": "code",
   "execution_count": null,
   "id": "7445955c",
   "metadata": {},
   "outputs": [],
   "source": [
    "X_plot = np.linspace(X.min(), X.max(), 100)\n",
    "y_plot = regressor.predict(X_plot.reshape(-1, 1))"
   ]
  },
  {
   "cell_type": "code",
   "execution_count": null,
   "id": "231c9b83",
   "metadata": {},
   "outputs": [],
   "source": [
    "plot_data = pd.DataFrame({'x': X_plot, 'y': y_plot}, columns=['x', 'y'])"
   ]
  },
  {
   "cell_type": "code",
   "execution_count": null,
   "id": "2983d281",
   "metadata": {},
   "outputs": [],
   "source": [
    "sns.scatterplot(data=dataset, x=\"x\", y=\"y\")\n",
    "plt.plot(X_plot, y_plot, color='r')"
   ]
  }
 ],
 "metadata": {
  "kernelspec": {
   "display_name": "Python 3 (ipykernel)",
   "language": "python",
   "name": "python3"
  },
  "language_info": {
   "codemirror_mode": {
    "name": "ipython",
    "version": 3
   },
   "file_extension": ".py",
   "mimetype": "text/x-python",
   "name": "python",
   "nbconvert_exporter": "python",
   "pygments_lexer": "ipython3",
   "version": "3.9.10"
  }
 },
 "nbformat": 4,
 "nbformat_minor": 5
}
