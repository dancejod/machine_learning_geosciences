{
 "cells": [
  {
   "cell_type": "markdown",
   "id": "2fa434be",
   "metadata": {},
   "source": [
    "# Decision Trees example"
   ]
  },
  {
   "cell_type": "markdown",
   "id": "e536f99a",
   "metadata": {},
   "source": [
    "### 1. Imports"
   ]
  },
  {
   "cell_type": "code",
   "execution_count": 16,
   "id": "ebf35eb0",
   "metadata": {},
   "outputs": [],
   "source": [
    "from sklearn.datasets import make_classification\n",
    "from sklearn import tree\n",
    "from sklearn.model_selection import train_test_split\n",
    "import matplotlib.pyplot as plt \n",
    "%matplotlib inline "
   ]
  },
  {
   "cell_type": "markdown",
   "id": "947c23ab",
   "metadata": {},
   "source": [
    "### 2. Data"
   ]
  },
  {
   "cell_type": "code",
   "execution_count": 5,
   "id": "7592f013",
   "metadata": {},
   "outputs": [],
   "source": [
    "# prepare data\n",
    "X, y = make_classification(100, 5, n_classes=2, shuffle=True, random_state=10)"
   ]
  },
  {
   "cell_type": "markdown",
   "id": "75d7decc",
   "metadata": {},
   "source": [
    "### 3. Exploratory Data Analysis (EDA)"
   ]
  },
  {
   "cell_type": "code",
   "execution_count": null,
   "id": "a8e089b8",
   "metadata": {},
   "outputs": [],
   "source": [
    "# get basic info about the dataset with .info() method.\n",
    "pass"
   ]
  },
  {
   "cell_type": "code",
   "execution_count": null,
   "id": "3b1ab1f5",
   "metadata": {},
   "outputs": [],
   "source": [
    "# do yourself - check missing data records? \n",
    "pass"
   ]
  },
  {
   "cell_type": "code",
   "execution_count": null,
   "id": "58526501",
   "metadata": {},
   "outputs": [],
   "source": [
    "# visualize feature space\n",
    "pass "
   ]
  },
  {
   "cell_type": "code",
   "execution_count": 17,
   "id": "a39dca6b",
   "metadata": {},
   "outputs": [],
   "source": [
    "# What do we see? "
   ]
  },
  {
   "cell_type": "markdown",
   "id": "4e4a9589",
   "metadata": {},
   "source": [
    "### 4. Data preparation (for Machine Learning modelling / or other analysis)"
   ]
  },
  {
   "cell_type": "code",
   "execution_count": 20,
   "id": "7359200e",
   "metadata": {},
   "outputs": [],
   "source": [
    "# sikp as X and y are already prepared above "
   ]
  },
  {
   "cell_type": "markdown",
   "id": "e9258c18",
   "metadata": {},
   "source": [
    "### 5. Splitting training and testing datasets"
   ]
  },
  {
   "cell_type": "code",
   "execution_count": null,
   "id": "19b91358",
   "metadata": {},
   "outputs": [],
   "source": [
    "# split X, y data into training and testing substes, 20% for testing \n",
    "pass "
   ]
  },
  {
   "cell_type": "markdown",
   "id": "e188fa83",
   "metadata": {},
   "source": [
    "### 6. Machine Learning model training"
   ]
  },
  {
   "cell_type": "code",
   "execution_count": 22,
   "id": "7267a155",
   "metadata": {},
   "outputs": [],
   "source": [
    "# instantiate model Logistic regression and Decision Tree\n",
    "pass"
   ]
  },
  {
   "cell_type": "code",
   "execution_count": 11,
   "id": "077a9cad",
   "metadata": {},
   "outputs": [],
   "source": [
    "# fit model \n",
    "pass"
   ]
  },
  {
   "cell_type": "markdown",
   "id": "346cbf5b",
   "metadata": {},
   "source": [
    "### 7. Model evaluation"
   ]
  },
  {
   "cell_type": "code",
   "execution_count": 25,
   "id": "55a78048",
   "metadata": {},
   "outputs": [],
   "source": [
    "# predicted_value = model.predict(X_test)\n",
    "# print(predicted_value)"
   ]
  },
  {
   "cell_type": "code",
   "execution_count": 26,
   "id": "cc1dbf7c",
   "metadata": {},
   "outputs": [],
   "source": [
    "# f1_score(y_test, y_pred, average='weighted')"
   ]
  },
  {
   "cell_type": "code",
   "execution_count": 27,
   "id": "b6f3e967",
   "metadata": {},
   "outputs": [],
   "source": [
    "# plot confusion matrix\n",
    "pass"
   ]
  },
  {
   "cell_type": "markdown",
   "id": "795773a0",
   "metadata": {},
   "source": [
    "### 8. Model visualization "
   ]
  },
  {
   "cell_type": "code",
   "execution_count": 29,
   "id": "e91f0c30",
   "metadata": {},
   "outputs": [],
   "source": [
    "# decision tree visualized\n",
    "pass"
   ]
  }
 ],
 "metadata": {
  "kernelspec": {
   "display_name": "Python 3 (ipykernel)",
   "language": "python",
   "name": "python3"
  },
  "language_info": {
   "codemirror_mode": {
    "name": "ipython",
    "version": 3
   },
   "file_extension": ".py",
   "mimetype": "text/x-python",
   "name": "python",
   "nbconvert_exporter": "python",
   "pygments_lexer": "ipython3",
   "version": "3.9.10"
  }
 },
 "nbformat": 4,
 "nbformat_minor": 5
}
