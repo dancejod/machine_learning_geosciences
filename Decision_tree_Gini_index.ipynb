{
 "cells": [
  {
   "cell_type": "markdown",
   "metadata": {},
   "source": [
    "# Decision Trees - Gini index"
   ]
  },
  {
   "cell_type": "code",
   "execution_count": null,
   "metadata": {},
   "outputs": [],
   "source": [
    "# https://www.upgrad.com/blog/gini-index-for-decision-trees/"
   ]
  },
  {
   "cell_type": "markdown",
   "metadata": {},
   "source": [
    "Gini Impurity is calculated by subtracting the sum of the squared probabilities of each class from one. The Gini Index varies between 0 and 1, where 0 represents purity of the classification and 1 denotes random distribution of elements among various classes. A Gini Index of 0.5 shows that there is equal distribution of elements across some classes."
   ]
  },
  {
   "cell_type": "markdown",
   "metadata": {},
   "source": [
    "\n",
    "$$ Gini = \\Sigma_{i=1}^C p(i) * (1-p(i)), $$ \n",
    "\n",
    "where <em>p(i)</em> is probability of each class <em>C</em>."
   ]
  },
  {
   "cell_type": "markdown",
   "metadata": {},
   "source": [
    "The Gini Index works on categorical variables and gives the results in terms of “success” or “failure” and hence performs only binary split.\n",
    "\n",
    "It favours mostly the larger partitions. "
   ]
  },
  {
   "cell_type": "markdown",
   "metadata": {},
   "source": [
    "## Gini index calcualtion example"
   ]
  },
  {
   "cell_type": "code",
   "execution_count": 3,
   "metadata": {},
   "outputs": [],
   "source": [
    "import matplotlib.pyplot as plt\n",
    "%matplotlib inline"
   ]
  },
  {
   "cell_type": "code",
   "execution_count": 92,
   "metadata": {},
   "outputs": [],
   "source": [
    "# red class a \n",
    "x_a = [90, 110, 115, 120, 160, 170]\n",
    "y_a = [205, 190,230, 370, 300, 95 ]\n",
    "# blue class b \n",
    "x_b = [230, 260, 310, 360,  390]\n",
    "y_b = [280, 230, 101, 99, 160]"
   ]
  },
  {
   "cell_type": "code",
   "execution_count": 93,
   "metadata": {},
   "outputs": [
    {
     "data": {
      "text/plain": [
       "Text(0, 0.5, 'Y')"
      ]
     },
     "execution_count": 93,
     "metadata": {},
     "output_type": "execute_result"
    },
    {
     "data": {
      "image/png": "[encoded data removed]",
      "text/plain": [
       "<Figure size 432x288 with 1 Axes>"
      ]
     },
     "metadata": {},
     "output_type": "display_data"
    }
   ],
   "source": [
    "plt.plot(x_a, y_a, 'ro')\n",
    "plt.plot(x_b, y_b, 'bo')\n",
    "plt.xlabel('X')\n",
    "plt.ylabel('Y')"
   ]
  },
  {
   "cell_type": "markdown",
   "metadata": {},
   "source": [
    "For a decision tree, we need to split the dataset into two branches. \n",
    "\n",
    "Consider the data points with 5 Reds and 5 Blues marked on the X-Y plane. Suppose we make a binary split at treshold X=200, then we will have a perfect split as shown below."
   ]
  },
  {
   "cell_type": "code",
   "execution_count": 94,
   "metadata": {},
   "outputs": [
    {
     "name": "stdout",
     "output_type": "stream",
     "text": [
      " Gini index for random selection of a point is 0.5\n"
     ]
    }
   ],
   "source": [
    "# Gini impurity \n",
    "# C classes \n",
    "# p(i) ... probability of picking the data point with the class i. \n",
    "\n",
    "# Randomly  pick up any data point from the dataset\n",
    "# G = p(1) ∗ (1−p(1)) + p(2) ∗ (1−p(2))\n",
    "G = (0.5 * (1 - 0.5)) + (0.5 * (1 - 0.5))\n",
    "print(' Gini index for random selection of a point is {}'.format(G))"
   ]
  },
  {
   "cell_type": "code",
   "execution_count": 95,
   "metadata": {},
   "outputs": [
    {
     "data": {
      "text/plain": [
       "Text(0, 0.5, 'Y')"
      ]
     },
     "execution_count": 95,
     "metadata": {},
     "output_type": "execute_result"
    },
    {
     "data": {
      "image/png": "[encoded data removed]",
      "text/plain": [
       "<Figure size 432x288 with 1 Axes>"
      ]
     },
     "metadata": {},
     "output_type": "display_data"
    }
   ],
   "source": [
    "thr_split = 200\n",
    "plt.plot(x_a, y_a, 'ro')\n",
    "plt.plot(x_b, y_b, 'bo')\n",
    "plt.axvline(x = thr_split, color='k')\n",
    "plt.xlabel('X')\n",
    "plt.ylabel('Y')"
   ]
  },
  {
   "cell_type": "code",
   "execution_count": 96,
   "metadata": {},
   "outputs": [
    {
     "name": "stdout",
     "output_type": "stream",
     "text": [
      "Threshold is 200\n",
      "Gini index for left branch (red) has Gini = 0\n",
      "Gini index for right branch (blue) has Gini = 0\n"
     ]
    }
   ],
   "source": [
    "print('Threshold is 200')\n",
    "G_left = (1 * (1 - 1)) + (0 * (1 - 0))\n",
    "G_right = (0 * (1 - 1)) + (0 * (1 - 0))\n",
    "print('Gini index for left branch (red) has Gini = {}'.format(G_left))\n",
    "print('Gini index for right branch (blue) has Gini = {}'.format(G_right))"
   ]
  },
  {
   "cell_type": "markdown",
   "metadata": {},
   "source": [
    "Both the left and right branches of our perfect split have probabilities of 0 and hence is indeed perfect. A Gini Impurity of 0 is the lowest and the best possible impurity for any data set."
   ]
  },
  {
   "cell_type": "code",
   "execution_count": 97,
   "metadata": {},
   "outputs": [
    {
     "data": {
      "text/plain": [
       "Text(0, 0.5, 'Y')"
      ]
     },
     "execution_count": 97,
     "metadata": {},
     "output_type": "execute_result"
    },
    {
     "data": {
      "image/png": "[encoded data removed]",
      "text/plain": [
       "<Figure size 432x288 with 1 Axes>"
      ]
     },
     "metadata": {},
     "output_type": "display_data"
    }
   ],
   "source": [
    "plt.plot(x_a, y_a, 'ro')\n",
    "plt.plot(x_b, y_b, 'bo')\n",
    "plt.axvline(x = 250, color='k')\n",
    "plt.xlabel('X')\n",
    "plt.ylabel('Y')"
   ]
  },
  {
   "cell_type": "code",
   "execution_count": 98,
   "metadata": {},
   "outputs": [
    {
     "name": "stdout",
     "output_type": "stream",
     "text": [
      "Gini index for left branch (red) has Gini = 0.278\n",
      "Gini index for right branch (blue) has Gini = 0\n"
     ]
    }
   ],
   "source": [
    "# left branch has 5 reds and 1 blue \n",
    "G_left2 = (1/6 * (1 - 1/6)) + (5/6 * (1 - 5/6))\n",
    "\n",
    "# the right branch has all blues \n",
    "G_right2 = (1 * (1-1)) + (0 * (1-0))\n",
    "\n",
    "print('Gini index for left branch (red) has Gini = {}'.format(round(G_left2,3)))\n",
    "print('Gini index for right branch (blue) has Gini = {}'.format(G_right2))"
   ]
  },
  {
   "cell_type": "markdown",
   "metadata": {},
   "source": [
    "We have the Gini Impurities of the imperfect split, in order to evaluate the quality or extent of the split, we will give a specific weight to the impurity of each branch with the number of elements it has."
   ]
  },
  {
   "cell_type": "code",
   "execution_count": 99,
   "metadata": {},
   "outputs": [
    {
     "name": "stdout",
     "output_type": "stream",
     "text": [
      "Gini index: 0.167\n"
     ]
    }
   ],
   "source": [
    "# quality of a split \n",
    "a_weight = sum([(i < thr_split)*1 for i in x_a]) / 10\n",
    "b_weight = sum([(i > thr_split)*1 for i in x_b]) / 10\n",
    "\n",
    "Gini_index = (a_weight * G_left2) + (b_weight * G_right2)\n",
    "print('Gini index: {}'.format(round(Gini_index, 3)))"
   ]
  },
  {
   "cell_type": "markdown",
   "metadata": {},
   "source": [
    "Now, we shall calculate the value of Gini Gain and analyse its application in Decision Trees. The amount of impurity removed with this split is calculated by deducting the above value  with the Gini Index for the entire dataset (0.5)\n"
   ]
  },
  {
   "cell_type": "code",
   "execution_count": 100,
   "metadata": {},
   "outputs": [
    {
     "name": "stdout",
     "output_type": "stream",
     "text": [
      "Gini Gain for the split is: 0.333\n"
     ]
    }
   ],
   "source": [
    "Gini_gain = G - Gini_index\n",
    "print('Gini Gain for the split is: {}'.format(round(Gini_gain, 3)))"
   ]
  },
  {
   "cell_type": "markdown",
   "metadata": {},
   "source": [
    "Higher Gini Gain => Better Split. \n",
    "\n",
    "In a Decision Tree algorithm, the best split is obtained by maximizing the Gini Gain, which is calculated in the above manner with each iteration. "
   ]
  },
  {
   "cell_type": "markdown",
   "metadata": {},
   "source": [
    "After calculating the Gini Gain for each attribute in the data set, the class, will choose the largest Gini Gain as the Root Node. When a branch with Gini of 0 is encountered it becomes the leaf node and the other branches with Gini more than 0 need further splitting. These nodes are grown recursively till all of them are classified."
   ]
  }
 ],
 "metadata": {
  "kernelspec": {
   "display_name": "Python 3",
   "language": "python",
   "name": "python3"
  },
  "language_info": {
   "codemirror_mode": {
    "name": "ipython",
    "version": 3
   },
   "file_extension": ".py",
   "mimetype": "text/x-python",
   "name": "python",
   "nbconvert_exporter": "python",
   "pygments_lexer": "ipython3",
   "version": "3.6.9"
  }
 },
 "nbformat": 4,
 "nbformat_minor": 2
}
