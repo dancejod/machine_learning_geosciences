{
 "cells": [
  {
   "cell_type": "markdown",
   "id": "favorite-celebrity",
   "metadata": {},
   "source": [
    "### Test Jupyter Notebook"
   ]
  },
  {
   "cell_type": "code",
   "execution_count": null,
   "id": "prepared-partition",
   "metadata": {},
   "outputs": [],
   "source": [
    "import os"
   ]
  },
  {
   "cell_type": "code",
   "execution_count": null,
   "id": "looking-sample",
   "metadata": {},
   "outputs": [],
   "source": [
    "# test other packgaes\n",
    "# ... "
   ]
  },
  {
   "cell_type": "code",
   "execution_count": null,
   "id": "miniature-payment",
   "metadata": {},
   "outputs": [],
   "source": [
    "import matplotlib.pyplot as plt\n",
    "%matplotlib inline"
   ]
  },
  {
   "cell_type": "code",
   "execution_count": null,
   "id": "roman-blind",
   "metadata": {},
   "outputs": [],
   "source": [
    "x = [1, 3, 5, 7, 9]\n",
    "y = [2, 7, 16, 19, 28]"
   ]
  },
  {
   "cell_type": "code",
   "execution_count": null,
   "id": "australian-hanging",
   "metadata": {},
   "outputs": [],
   "source": [
    "plt.plot(x, y, 'b.-')"
   ]
  }
 ],
 "metadata": {
  "kernelspec": {
   "display_name": "Python 3",
   "language": "python",
   "name": "python3"
  },
  "language_info": {
   "codemirror_mode": {
    "name": "ipython",
    "version": 3
   },
   "file_extension": ".py",
   "mimetype": "text/x-python",
   "name": "python",
   "nbconvert_exporter": "python",
   "pygments_lexer": "ipython3",
   "version": "3.9.2"
  }
 },
 "nbformat": 4,
 "nbformat_minor": 5
}
