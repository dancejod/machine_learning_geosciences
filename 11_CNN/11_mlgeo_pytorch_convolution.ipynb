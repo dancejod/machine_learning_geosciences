{
 "cells": [
  {
   "cell_type": "markdown",
   "id": "472c6b37",
   "metadata": {},
   "source": [
    "## Example of PyTorch convolution"
   ]
  },
  {
   "cell_type": "code",
   "execution_count": 1,
   "id": "8c23d799",
   "metadata": {},
   "outputs": [],
   "source": [
    "import os \n",
    "import torch\n",
    "import torch.nn as nn\n",
    "from torch.utils.data import DataLoader\n",
    "from torchvision import datasets, transforms\n",
    "import matplotlib.pyplot as plt\n",
    "%matplotlib inline"
   ]
  },
  {
   "cell_type": "code",
   "execution_count": 2,
   "id": "62739f87",
   "metadata": {},
   "outputs": [
    {
     "data": {
      "text/plain": [
       "['11_pytorch_max_pooling.ipynb',\n",
       " '11_mlgeo_pytorch_convolution.ipynb',\n",
       " '.ipynb_checkpoints',\n",
       " '11_deep_learning_cnn.ipynb']"
      ]
     },
     "execution_count": 2,
     "metadata": {},
     "output_type": "execute_result"
    }
   ],
   "source": [
    "os.listdir('./')"
   ]
  },
  {
   "cell_type": "code",
   "execution_count": 3,
   "id": "adeb5336",
   "metadata": {},
   "outputs": [
    {
     "name": "stdout",
     "output_type": "stream",
     "text": [
      "Downloading http://yann.lecun.com/exdb/mnist/train-images-idx3-ubyte.gz\n",
      "Downloading http://yann.lecun.com/exdb/mnist/train-images-idx3-ubyte.gz to ./data/MNIST/raw/train-images-idx3-ubyte.gz\n"
     ]
    },
    {
     "data": {
      "application/vnd.jupyter.widget-view+json": {
       "model_id": "dbf0bc436d5e4ff29dd86d2b25dcf492",
       "version_major": 2,
       "version_minor": 0
      },
      "text/plain": [
       "  0%|          | 0/9912422 [00:00<?, ?it/s]"
      ]
     },
     "metadata": {},
     "output_type": "display_data"
    },
    {
     "name": "stdout",
     "output_type": "stream",
     "text": [
      "Extracting ./data/MNIST/raw/train-images-idx3-ubyte.gz to ./data/MNIST/raw\n",
      "\n",
      "Downloading http://yann.lecun.com/exdb/mnist/train-labels-idx1-ubyte.gz\n",
      "Downloading http://yann.lecun.com/exdb/mnist/train-labels-idx1-ubyte.gz to ./data/MNIST/raw/train-labels-idx1-ubyte.gz\n"
     ]
    },
    {
     "data": {
      "application/vnd.jupyter.widget-view+json": {
       "model_id": "942b76274a574a9893ec6c8f5d514100",
       "version_major": 2,
       "version_minor": 0
      },
      "text/plain": [
       "  0%|          | 0/28881 [00:00<?, ?it/s]"
      ]
     },
     "metadata": {},
     "output_type": "display_data"
    },
    {
     "name": "stdout",
     "output_type": "stream",
     "text": [
      "Extracting ./data/MNIST/raw/train-labels-idx1-ubyte.gz to ./data/MNIST/raw\n",
      "\n",
      "Downloading http://yann.lecun.com/exdb/mnist/t10k-images-idx3-ubyte.gz\n",
      "Downloading http://yann.lecun.com/exdb/mnist/t10k-images-idx3-ubyte.gz to ./data/MNIST/raw/t10k-images-idx3-ubyte.gz\n"
     ]
    },
    {
     "data": {
      "application/vnd.jupyter.widget-view+json": {
       "model_id": "4f01304b58e6401b8de5bcd6d853bc10",
       "version_major": 2,
       "version_minor": 0
      },
      "text/plain": [
       "  0%|          | 0/1648877 [00:00<?, ?it/s]"
      ]
     },
     "metadata": {},
     "output_type": "display_data"
    },
    {
     "name": "stdout",
     "output_type": "stream",
     "text": [
      "Extracting ./data/MNIST/raw/t10k-images-idx3-ubyte.gz to ./data/MNIST/raw\n",
      "\n",
      "Downloading http://yann.lecun.com/exdb/mnist/t10k-labels-idx1-ubyte.gz\n",
      "Downloading http://yann.lecun.com/exdb/mnist/t10k-labels-idx1-ubyte.gz to ./data/MNIST/raw/t10k-labels-idx1-ubyte.gz\n"
     ]
    },
    {
     "data": {
      "application/vnd.jupyter.widget-view+json": {
       "model_id": "522fe8b680f54592906dc56aaf44b8d8",
       "version_major": 2,
       "version_minor": 0
      },
      "text/plain": [
       "  0%|          | 0/4542 [00:00<?, ?it/s]"
      ]
     },
     "metadata": {},
     "output_type": "display_data"
    },
    {
     "name": "stdout",
     "output_type": "stream",
     "text": [
      "Extracting ./data/MNIST/raw/t10k-labels-idx1-ubyte.gz to ./data/MNIST/raw\n",
      "\n"
     ]
    }
   ],
   "source": [
    "# data \n",
    "transform = transforms.ToTensor()\n",
    "test_data = datasets.MNIST(root='./data', download=True, train=False, transform=transform)\n",
    "\n",
    "# data = datasets.EuroSAT(root='./data', download=True, target_transform=transform)\n"
   ]
  },
  {
   "cell_type": "code",
   "execution_count": 4,
   "id": "43aa4ea1",
   "metadata": {},
   "outputs": [],
   "source": [
    "test_loader = DataLoader(dataset=test_data , batch_size=10, shuffle=False)\n",
    "for images, labels in test_loader: \n",
    "    break"
   ]
  },
  {
   "cell_type": "code",
   "execution_count": 7,
   "id": "32bd8626",
   "metadata": {},
   "outputs": [
    {
     "data": {
      "text/plain": [
       "<matplotlib.image.AxesImage at 0x13d0bafd0>"
      ]
     },
     "execution_count": 7,
     "metadata": {},
     "output_type": "execute_result"
    },
    {
     "data": {
      "image/png": "[encoded data removed]",
      "text/plain": [
       "<Figure size 432x288 with 1 Axes>"
      ]
     },
     "metadata": {
      "needs_background": "light"
     },
     "output_type": "display_data"
    }
   ],
   "source": [
    "image = images[0]\n",
    "image.shape\n",
    "plt.imshow(image.detach().numpy()[0, :, :], cmap='gray')"
   ]
  },
  {
   "cell_type": "markdown",
   "id": "2fb53c34",
   "metadata": {},
   "source": [
    "### Convolution"
   ]
  },
  {
   "cell_type": "code",
   "execution_count": 8,
   "id": "a81d0e78",
   "metadata": {},
   "outputs": [
    {
     "data": {
      "text/plain": [
       "torch.Size([1, 28, 28])"
      ]
     },
     "execution_count": 8,
     "metadata": {},
     "output_type": "execute_result"
    }
   ],
   "source": [
    "image.shape"
   ]
  },
  {
   "cell_type": "markdown",
   "id": "94caa2e9",
   "metadata": {},
   "source": [
    "`nn.Conv2d()`"
   ]
  },
  {
   "cell_type": "markdown",
   "id": "6211b898",
   "metadata": {},
   "source": [
    "nn.Conv2d(\n",
    "    in_channels, \n",
    "    out_channels, \n",
    "    kernel_size, \n",
    "    stride, \n",
    "    padding, \n",
    "    device=None\n",
    ")\n",
    "\n",
    "* `in_channels` number of input channels \n",
    "\n",
    "* `out_channels` number of outpu channels \n",
    "\n",
    "* `kernel_size` size of the convolution kernel \n",
    "\n",
    "* `stride` controls the stride of the kernel \n",
    "\n",
    "* `padding` controls the amount of padding pixels  applied to the input\n",
    "  \n",
    "* `device` either CPU or GPU \n"
   ]
  },
  {
   "cell_type": "code",
   "execution_count": 27,
   "id": "60fc7978",
   "metadata": {},
   "outputs": [],
   "source": [
    "conv = nn.Conv2d(in_channels=1,out_channels=1,kernel_size=3,stride=1, padding=1)"
   ]
  },
  {
   "cell_type": "code",
   "execution_count": 28,
   "id": "e731b64a",
   "metadata": {},
   "outputs": [
    {
     "data": {
      "text/plain": [
       "Conv2d(1, 1, kernel_size=(3, 3), stride=(1, 1), padding=(1, 1))"
      ]
     },
     "execution_count": 28,
     "metadata": {},
     "output_type": "execute_result"
    }
   ],
   "source": [
    "conv"
   ]
  },
  {
   "cell_type": "code",
   "execution_count": 29,
   "id": "c5373f80",
   "metadata": {},
   "outputs": [],
   "source": [
    "image_conv = conv(image)"
   ]
  },
  {
   "cell_type": "code",
   "execution_count": 30,
   "id": "8728e327",
   "metadata": {},
   "outputs": [
    {
     "data": {
      "text/plain": [
       "torch.Size([1, 28, 28])"
      ]
     },
     "execution_count": 30,
     "metadata": {},
     "output_type": "execute_result"
    }
   ],
   "source": [
    "image_conv.shape"
   ]
  },
  {
   "cell_type": "code",
   "execution_count": 31,
   "id": "6bf5288f",
   "metadata": {
    "scrolled": true
   },
   "outputs": [
    {
     "data": {
      "text/plain": [
       "<matplotlib.image.AxesImage at 0x13d1f6820>"
      ]
     },
     "execution_count": 31,
     "metadata": {},
     "output_type": "execute_result"
    },
    {
     "data": {
      "image/png": "[encoded data removed]",
      "text/plain": [
       "<Figure size 432x288 with 1 Axes>"
      ]
     },
     "metadata": {
      "needs_background": "light"
     },
     "output_type": "display_data"
    }
   ],
   "source": [
    "plt.imshow(image_conv.detach().numpy()[0, :, :], cmap='gray', interpolation ='nearest')"
   ]
  },
  {
   "cell_type": "code",
   "execution_count": 32,
   "id": "34a9aba2",
   "metadata": {},
   "outputs": [
    {
     "data": {
      "text/plain": [
       "torch.Size([1, 1, 3, 3])"
      ]
     },
     "execution_count": 32,
     "metadata": {},
     "output_type": "execute_result"
    }
   ],
   "source": [
    "conv.weight.size()"
   ]
  },
  {
   "cell_type": "code",
   "execution_count": 34,
   "id": "f777e9a4",
   "metadata": {
    "scrolled": true
   },
   "outputs": [
    {
     "data": {
      "text/plain": [
       "Parameter containing:\n",
       "tensor([[[[1., 1., 1.],\n",
       "          [1., 1., 1.],\n",
       "          [1., 1., 1.]]]], requires_grad=True)"
      ]
     },
     "execution_count": 34,
     "metadata": {},
     "output_type": "execute_result"
    }
   ],
   "source": [
    "conv.weight = nn.Parameter(torch.ones((1, 1, 3, 3)))\n",
    "conv.weight"
   ]
  },
  {
   "cell_type": "code",
   "execution_count": 35,
   "id": "450ed7d6",
   "metadata": {
    "scrolled": true
   },
   "outputs": [
    {
     "data": {
      "text/plain": [
       "<matplotlib.image.AxesImage at 0x13d25c940>"
      ]
     },
     "execution_count": 35,
     "metadata": {},
     "output_type": "execute_result"
    },
    {
     "data": {
      "image/png": "[encoded data removed]",
      "text/plain": [
       "<Figure size 432x288 with 1 Axes>"
      ]
     },
     "metadata": {
      "needs_background": "light"
     },
     "output_type": "display_data"
    }
   ],
   "source": [
    "image_conv = conv(image)\n",
    "plt.imshow(image_conv.detach().numpy()[0, :, :], cmap='gray', interpolation ='nearest')"
   ]
  },
  {
   "cell_type": "code",
   "execution_count": 36,
   "id": "e2a7a9f8",
   "metadata": {
    "scrolled": true
   },
   "outputs": [
    {
     "data": {
      "text/plain": [
       "Parameter containing:\n",
       "tensor([[[[0., 0., 0.],\n",
       "          [0., 0., 0.],\n",
       "          [0., 0., 0.]]]], requires_grad=True)"
      ]
     },
     "execution_count": 36,
     "metadata": {},
     "output_type": "execute_result"
    }
   ],
   "source": [
    "conv.weight = nn.Parameter(torch.zeros((1, 1, 3, 3)))\n",
    "conv.weight"
   ]
  },
  {
   "cell_type": "code",
   "execution_count": 37,
   "id": "8c7b3ff6",
   "metadata": {
    "scrolled": false
   },
   "outputs": [
    {
     "data": {
      "text/plain": [
       "<matplotlib.image.AxesImage at 0x13d2c0b50>"
      ]
     },
     "execution_count": 37,
     "metadata": {},
     "output_type": "execute_result"
    },
    {
     "data": {
      "image/png": "[encoded data removed]",
      "text/plain": [
       "<Figure size 432x288 with 1 Axes>"
      ]
     },
     "metadata": {
      "needs_background": "light"
     },
     "output_type": "display_data"
    }
   ],
   "source": [
    "image_conv = conv(image)\n",
    "plt.imshow(image_conv.detach().numpy()[0, :, :], cmap='gray', interpolation ='nearest')"
   ]
  },
  {
   "attachments": {
    "image.png": {
     "image/png": "[encoded data removed]"
    }
   },
   "cell_type": "markdown",
   "id": "5e11aa48",
   "metadata": {},
   "source": [
    "#### High pass filter \n",
    "![image.png](attachment:image.png)"
   ]
  },
  {
   "cell_type": "code",
   "execution_count": 38,
   "id": "9018335a",
   "metadata": {},
   "outputs": [],
   "source": [
    "hp = [\n",
    "      [  0.0, -0.25, 0.0 ], \n",
    "      [-0.25,  2.0, -0.25], \n",
    "      [  0.0, -0.25, 0.0 ]\n",
    "     ]"
   ]
  },
  {
   "cell_type": "code",
   "execution_count": 39,
   "id": "e98eb908",
   "metadata": {
    "scrolled": true
   },
   "outputs": [
    {
     "data": {
      "text/plain": [
       "<matplotlib.colorbar.Colorbar at 0x13d340f70>"
      ]
     },
     "execution_count": 39,
     "metadata": {},
     "output_type": "execute_result"
    },
    {
     "data": {
      "image/png": "[encoded data removed]",
      "text/plain": [
       "<Figure size 432x288 with 2 Axes>"
      ]
     },
     "metadata": {
      "needs_background": "light"
     },
     "output_type": "display_data"
    }
   ],
   "source": [
    "plt.imshow(hp)\n",
    "plt.colorbar()"
   ]
  },
  {
   "cell_type": "code",
   "execution_count": 40,
   "id": "233db8a4",
   "metadata": {},
   "outputs": [],
   "source": [
    "hp_torch = torch.FloatTensor(hp)"
   ]
  },
  {
   "cell_type": "code",
   "execution_count": 41,
   "id": "ce0c864f",
   "metadata": {},
   "outputs": [
    {
     "data": {
      "text/plain": [
       "tensor([[ 0.0000, -0.2500,  0.0000],\n",
       "        [-0.2500,  2.0000, -0.2500],\n",
       "        [ 0.0000, -0.2500,  0.0000]])"
      ]
     },
     "execution_count": 41,
     "metadata": {},
     "output_type": "execute_result"
    }
   ],
   "source": [
    "hp_torch"
   ]
  },
  {
   "cell_type": "code",
   "execution_count": 42,
   "id": "f11149f3",
   "metadata": {},
   "outputs": [
    {
     "data": {
      "text/plain": [
       "Parameter containing:\n",
       "tensor([[[[ 0.0000, -0.2500,  0.0000],\n",
       "          [-0.2500,  2.0000, -0.2500],\n",
       "          [ 0.0000, -0.2500,  0.0000]]]], requires_grad=True)"
      ]
     },
     "execution_count": 42,
     "metadata": {},
     "output_type": "execute_result"
    }
   ],
   "source": [
    "conv.weight = nn.Parameter(torch.reshape(hp_torch, (1, 1, 3, 3)))\n",
    "conv.weight"
   ]
  },
  {
   "cell_type": "code",
   "execution_count": 43,
   "id": "9d700c75",
   "metadata": {},
   "outputs": [
    {
     "data": {
      "text/plain": [
       "<matplotlib.image.AxesImage at 0x13d3efdf0>"
      ]
     },
     "execution_count": 43,
     "metadata": {},
     "output_type": "execute_result"
    },
    {
     "data": {
      "image/png": "[encoded data removed]",
      "text/plain": [
       "<Figure size 432x288 with 1 Axes>"
      ]
     },
     "metadata": {
      "needs_background": "light"
     },
     "output_type": "display_data"
    }
   ],
   "source": [
    "image_conv = conv(image)\n",
    "plt.imshow(image_conv.detach().numpy()[0, :, :], cmap='gray', interpolation ='nearest')"
   ]
  },
  {
   "cell_type": "markdown",
   "id": "f19ed336",
   "metadata": {},
   "source": [
    "### Question: \n",
    "If a 28x28 image is passed through a Convolutional layer using a 5x5 filter, a step size of 1,  and no padding, what is the resulting matrix size?\n"
   ]
  },
  {
   "cell_type": "code",
   "execution_count": null,
   "id": "1036ad4f",
   "metadata": {},
   "outputs": [],
   "source": []
  }
 ],
 "metadata": {
  "kernelspec": {
   "display_name": "Python 3 (ipykernel)",
   "language": "python",
   "name": "python3"
  },
  "language_info": {
   "codemirror_mode": {
    "name": "ipython",
    "version": 3
   },
   "file_extension": ".py",
   "mimetype": "text/x-python",
   "name": "python",
   "nbconvert_exporter": "python",
   "pygments_lexer": "ipython3",
   "version": "3.9.10"
  }
 },
 "nbformat": 4,
 "nbformat_minor": 5
}
