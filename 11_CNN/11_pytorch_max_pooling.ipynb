{
 "cells": [
  {
   "cell_type": "markdown",
   "id": "05fcf65d",
   "metadata": {},
   "source": [
    "___\n",
    "\n",
    "# Machine Learning in Geosciences ] \n",
    "Department of Applied Geoinformatics and Carthography, Charles University\n",
    "\n",
    "Lukas Brodsky lukas.brodsky@natur.cuni.cz\n"
   ]
  },
  {
   "cell_type": "markdown",
   "id": "62cf70d7",
   "metadata": {},
   "source": [
    "## MaxPooling in PyTorch\n",
    "\n",
    "This notebook demonstrates the process of MaxPooling as part of convolutiona neural networks. "
   ]
  },
  {
   "cell_type": "code",
   "execution_count": null,
   "id": "bfd7d3dd",
   "metadata": {},
   "outputs": [],
   "source": [
    "import os \n",
    "import torch.nn as nn\n",
    "from torch.utils.data import DataLoader\n",
    "from torchvision import datasets, transforms\n",
    "import matplotlib.pyplot as plt\n",
    "%matplotlib inline"
   ]
  },
  {
   "cell_type": "code",
   "execution_count": null,
   "id": "039a8f49",
   "metadata": {},
   "outputs": [],
   "source": [
    "os.listdir('./')"
   ]
  },
  {
   "cell_type": "code",
   "execution_count": null,
   "id": "9ab8c4cd",
   "metadata": {},
   "outputs": [],
   "source": [
    "# data \n",
    "transform = transforms.ToTensor()\n",
    "test_data = datasets.MNIST(root='./data', download=True, train=False, transform=transform)"
   ]
  },
  {
   "cell_type": "code",
   "execution_count": null,
   "id": "6f9b3b1a",
   "metadata": {},
   "outputs": [],
   "source": [
    "test_loader = DataLoader(dataset=test_data , batch_size=10, shuffle=False)\n",
    "for images, labels in test_loader: \n",
    "    break"
   ]
  },
  {
   "cell_type": "code",
   "execution_count": null,
   "id": "3fe9f87e",
   "metadata": {},
   "outputs": [],
   "source": [
    "image = images[0]\n",
    "image.shape\n",
    "plt.imshow(image.detach().numpy()[0, :, :], cmap='gray')"
   ]
  },
  {
   "cell_type": "markdown",
   "id": "94d54765",
   "metadata": {},
   "source": [
    "### MaxPooling"
   ]
  },
  {
   "cell_type": "code",
   "execution_count": null,
   "id": "2fe678a9",
   "metadata": {},
   "outputs": [],
   "source": [
    "image.shape"
   ]
  },
  {
   "cell_type": "markdown",
   "id": "8d11f2e4",
   "metadata": {},
   "source": [
    "`nn.MaxPool2d()`"
   ]
  },
  {
   "cell_type": "markdown",
   "id": "a999320a",
   "metadata": {},
   "source": [
    "nn.MaxPool2d(\n",
    "    kernel_size, \n",
    "    stride, \n",
    "    padding\n",
    ") \n",
    "\n",
    "Applies a 2D max pooling over an input signal composed of several input planes.\n",
    "\n",
    "\n",
    "Args:\n",
    "    kernel_size: the size of the window to take a max over\n",
    "    stride: the stride of the window. Default value is :attr:`kernel_size`\n",
    "    padding: implicit zero padding to be added on both sides\n"
   ]
  },
  {
   "cell_type": "code",
   "execution_count": null,
   "id": "f62cdbc9",
   "metadata": {},
   "outputs": [],
   "source": [
    "maxpool = nn.MaxPool2d(kernel_size=2, stride=1)"
   ]
  },
  {
   "cell_type": "code",
   "execution_count": null,
   "id": "d3ad1bf8",
   "metadata": {},
   "outputs": [],
   "source": [
    "image_maxpool = maxpool(image)"
   ]
  },
  {
   "cell_type": "code",
   "execution_count": null,
   "id": "5c3a0060",
   "metadata": {},
   "outputs": [],
   "source": [
    "image_maxpool.shape"
   ]
  },
  {
   "cell_type": "code",
   "execution_count": null,
   "id": "e796ecbd",
   "metadata": {},
   "outputs": [],
   "source": [
    "# MaxPooled image \n",
    "plt.imshow(image_maxpool.detach().numpy()[0, :, :], cmap='gray')"
   ]
  },
  {
   "cell_type": "code",
   "execution_count": null,
   "id": "660f8f69",
   "metadata": {},
   "outputs": [],
   "source": [
    "# original image \n",
    "plt.imshow(image.detach().numpy()[0, :, :], cmap='gray')"
   ]
  },
  {
   "cell_type": "code",
   "execution_count": null,
   "id": "c1f8527b",
   "metadata": {},
   "outputs": [],
   "source": [
    "# Question: \n",
    "# If the sample from question 3 is then passed through a 2x2 MaxPooling layer, \n",
    "# what is the resulting matrix size?"
   ]
  }
 ],
 "metadata": {
  "kernelspec": {
   "display_name": "Python 3 (ipykernel)",
   "language": "python",
   "name": "python3"
  },
  "language_info": {
   "codemirror_mode": {
    "name": "ipython",
    "version": 3
   },
   "file_extension": ".py",
   "mimetype": "text/x-python",
   "name": "python",
   "nbconvert_exporter": "python",
   "pygments_lexer": "ipython3",
   "version": "3.9.10"
  }
 },
 "nbformat": 4,
 "nbformat_minor": 5
}
