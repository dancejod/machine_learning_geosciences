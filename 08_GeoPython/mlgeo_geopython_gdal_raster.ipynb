{
 "cells": [
  {
   "cell_type": "markdown",
   "metadata": {},
   "source": [
    "___\n",
    "\n",
    "# [ Machine Learning in Geosciences ] \n",
    "Department of Applied Geoinformatics and Carthography, Charles University\n",
    "\n",
    "Lukas Brodsky lukas.brodsky@natur.cuni.cz\n"
   ]
  },
  {
   "cell_type": "markdown",
   "metadata": {},
   "source": [
    "## Python-gdal rasters\n"
   ]
  },
  {
   "cell_type": "markdown",
   "metadata": {},
   "source": [
    "This notebook introduces how to work with raster data in Python using gdal binding. It covers: \n",
    "\n",
    "* 1. Reading raster data into Numpy ndarray\n",
    "\n",
    "* 2. RGB image visualization\n",
    "\n",
    "* 3. Simple map algebra \n",
    "\n",
    "* 4. Writing raster data into raster data file; \n"
   ]
  },
  {
   "cell_type": "markdown",
   "metadata": {},
   "source": [
    "### Setup"
   ]
  },
  {
   "cell_type": "code",
   "execution_count": null,
   "metadata": {},
   "outputs": [],
   "source": [
    "# Common imports for reading, visualizing\n",
    "import os\n",
    "import numpy as np\n",
    "import matplotlib.pyplot as plt \n",
    "%matplotlib inline \n",
    "\n",
    "# import gdal\n",
    "from osgeo import gdal "
   ]
  },
  {
   "cell_type": "code",
   "execution_count": null,
   "metadata": {},
   "outputs": [],
   "source": [
    "import osgeo.gdal\n",
    "print(osgeo.gdal.__version__)"
   ]
  },
  {
   "cell_type": "code",
   "execution_count": null,
   "metadata": {},
   "outputs": [],
   "source": [
    "os.getcwd()"
   ]
  },
  {
   "cell_type": "code",
   "execution_count": null,
   "metadata": {},
   "outputs": [],
   "source": []
  },
  {
   "cell_type": "markdown",
   "metadata": {},
   "source": [
    "### Get data "
   ]
  },
  {
   "cell_type": "code",
   "execution_count": null,
   "metadata": {},
   "outputs": [],
   "source": [
    "# Set your own PATH!!! \n",
    "PATH = './data/'\n",
    "\n",
    "if os.path.isdir(PATH): \n",
    "    print('ok')"
   ]
  },
  {
   "cell_type": "code",
   "execution_count": null,
   "metadata": {},
   "outputs": [],
   "source": [
    "raster_fn = os.path.join(PATH, 'landsat.tif')"
   ]
  },
  {
   "cell_type": "code",
   "execution_count": null,
   "metadata": {},
   "outputs": [],
   "source": [
    "if os.path.isfile(raster_fn): \n",
    "    print('ok')\n",
    "else: \n",
    "    print('Check your path to the raster file!')"
   ]
  },
  {
   "cell_type": "markdown",
   "metadata": {},
   "source": [
    "### Reading raster"
   ]
  },
  {
   "cell_type": "code",
   "execution_count": null,
   "metadata": {},
   "outputs": [],
   "source": [
    "# open data source \n",
    "ds = gdal.Open(raster_fn) \n",
    "if ds is None: \n",
    "    print('Could not open {}'.format(fn)) \n",
    "    sys.exit(1) "
   ]
  },
  {
   "cell_type": "code",
   "execution_count": null,
   "metadata": {},
   "outputs": [],
   "source": [
    "ds"
   ]
  },
  {
   "cell_type": "code",
   "execution_count": null,
   "metadata": {},
   "outputs": [],
   "source": [
    "# check raster dimensions \n",
    "cols = ds.RasterXSize\n",
    "rows = ds.RasterYSize\n",
    "bands = ds.RasterCount\n",
    "\n",
    "print('The ../{} raster dimensionos are: '.format(os.path.basename(raster_fn)))\n",
    "print('{} cols, {} rows and {} bands'.format(cols, rows, bands))"
   ]
  },
  {
   "cell_type": "code",
   "execution_count": null,
   "metadata": {},
   "outputs": [],
   "source": [
    "# geotransformation metadata\n",
    "geotransform = ds.GetGeoTransform()"
   ]
  },
  {
   "cell_type": "code",
   "execution_count": null,
   "metadata": {},
   "outputs": [],
   "source": [
    "print(geotransform)"
   ]
  },
  {
   "cell_type": "code",
   "execution_count": null,
   "metadata": {},
   "outputs": [],
   "source": [
    "type(geotransform)"
   ]
  },
  {
   "cell_type": "code",
   "execution_count": null,
   "metadata": {},
   "outputs": [],
   "source": [
    "# beaware the order of the metadata in the tuple\n",
    "originX = geotransform[0]\n",
    "originY = geotransform[3]\n",
    "pixelWidth = geotransform[1]\n",
    "pixelHeight = geotransform[5]\n",
    "\n",
    "print('The ./{} raster georeference info is: '.format(os.path.basename(raster_fn)))\n",
    "print('origin X: {}, origin Y: {} and pixel size is: {}'.format(originX, originY, pixelWidth))"
   ]
  },
  {
   "cell_type": "code",
   "execution_count": null,
   "metadata": {},
   "outputs": [],
   "source": [
    "# get value of pixel x, y from band 1 given spatial coorinates \n",
    "# beware we are already working with numpy array, while we know the origin coordiantes \n",
    "x1 = 631608\n",
    "y1 = 7744535\n",
    "\n",
    "xOffset = int((x1 - originX) / pixelWidth)\n",
    "yOffset = int((y1 - originY) / pixelHeight)\n",
    "\n",
    "# get band from datasource\n",
    "band = ds.GetRasterBand(1)\n",
    "\n",
    "# get data from band\n",
    "# check API: https://gdal.org/api/python/osgeo.gdal.html \n",
    "# ReadAsArray(xoff=0, yoff=0, win_xsize=None, win_ysize=None, buf_xsize=None, buf_ysize=None, buf_type=None, buf_obj=None, resample_alg=0, callback=None, callback_data=None)\n",
    "data1 = band.ReadAsArray(xOffset, yOffset, 1, 1)\n",
    "print('Pixal value for x {} and y {} is {}'.format(x1, y1, data1[0]))"
   ]
  },
  {
   "cell_type": "code",
   "execution_count": null,
   "metadata": {},
   "outputs": [],
   "source": [
    "# vector of spectral values across bands\n",
    "data1_vector = []\n",
    "for b in range(ds.RasterCount): \n",
    "    band = ds.GetRasterBand(b + 1)\n",
    "    data1_vector.append(band.ReadAsArray(xOffset, yOffset, 1, 1)[0][0] / 10000)\n",
    "\n",
    "print(data1_vector)"
   ]
  },
  {
   "cell_type": "code",
   "execution_count": null,
   "metadata": {},
   "outputs": [],
   "source": [
    "# value of pixel x, y \n",
    "x2 = 635150\n",
    "y2 = 7739676\n",
    "\n",
    "xOffset2 = int((x2 - originX) / pixelWidth)\n",
    "yOffset2 = int((y2 - originY) / pixelHeight)\n",
    "\n",
    "# vector of spectral values \n",
    "data2_vector = []\n",
    "for b in range(ds.RasterCount): \n",
    "    band = ds.GetRasterBand(b + 1)\n",
    "    data2_vector.append(band.ReadAsArray(xOffset2, yOffset2, 1, 1)[0][0] / 10000)\n",
    "\n",
    "print(data2_vector)"
   ]
  },
  {
   "cell_type": "code",
   "execution_count": null,
   "metadata": {},
   "outputs": [],
   "source": [
    "landsat_wavelength = [485, 560, 660, 860, 1650, 2220]\n",
    "\n",
    "plt.plot(landsat_wavelength, data1_vector, 'bo--')\n",
    "plt.plot(landsat_wavelength, data2_vector, 'go--')"
   ]
  },
  {
   "cell_type": "code",
   "execution_count": null,
   "metadata": {},
   "outputs": [],
   "source": [
    "# read full image \n",
    "data = band.ReadAsArray()\n",
    "print('The image size is {}'.format(data.shape))"
   ]
  },
  {
   "cell_type": "code",
   "execution_count": null,
   "metadata": {},
   "outputs": [],
   "source": [
    "# clean memory \n",
    "band = None\n",
    "ds = None"
   ]
  },
  {
   "cell_type": "markdown",
   "metadata": {},
   "source": [
    "### Writing raster"
   ]
  },
  {
   "cell_type": "code",
   "execution_count": null,
   "metadata": {},
   "outputs": [],
   "source": [
    "# read image data bands to Numpy\n",
    "driver = gdal.GetDriverByName('Gtiff')\n",
    "ds = gdal.Open(raster_fn) \n",
    "\n",
    "if ds is None: \n",
    "    print('Could not open {}'.format(fn)) \n",
    "    sys.exit(1) \n",
    "\n",
    "\n",
    "img = np.zeros((ds.RasterYSize, ds.RasterXSize, ds.RasterCount), dtype=np.float64) \n",
    "\n",
    "for b in range(ds.RasterCount): \n",
    "    img[:, :, b] = ds.GetRasterBand(b + 1).ReadAsArray() / 10000\n"
   ]
  },
  {
   "cell_type": "code",
   "execution_count": null,
   "metadata": {},
   "outputs": [],
   "source": [
    "img.shape"
   ]
  },
  {
   "cell_type": "code",
   "execution_count": null,
   "metadata": {},
   "outputs": [],
   "source": [
    "# get meta\n",
    "projection = ds.GetProjection()\n",
    "geo_transform = ds.GetGeoTransform()"
   ]
  },
  {
   "cell_type": "code",
   "execution_count": null,
   "metadata": {},
   "outputs": [],
   "source": [
    "img.shape"
   ]
  },
  {
   "cell_type": "code",
   "execution_count": null,
   "metadata": {},
   "outputs": [],
   "source": [
    "plt.imshow(img[:,:,3], cmap='gray')\n",
    "plt.colorbar()"
   ]
  },
  {
   "cell_type": "code",
   "execution_count": null,
   "metadata": {},
   "outputs": [],
   "source": [
    "# view raster RGB using matplotlib \n",
    "index = np.array([4, 3, 2])\n",
    "colors = img[:, :, index].astype(np.float64)\n",
    "max_val = 0.4\n",
    "min_val = 0.0\n",
    "\n",
    "# enforce maximum and minimum values\n",
    "colors[colors[:, :, :] > max_val] = max_val\n",
    "colors[colors[:, :, :] < min_val] = min_val\n",
    "\n",
    "for b in range(colors.shape[2]):\n",
    "    colors[:, :, b] = colors[:, :, b] * 1 / (max_val - min_val)\n",
    "\n",
    "plt.imshow(colors)"
   ]
  },
  {
   "cell_type": "code",
   "execution_count": null,
   "metadata": {},
   "outputs": [],
   "source": [
    "# calculate snow (ice) index \n",
    "# NDSI = (GREEN - SWIR1) / (GREEN + SWIR1)\n",
    "GREEN_ix = 1\n",
    "SWIR1_ix = 4\n",
    "NDSI = (img[:,:,GREEN_ix] - img[:,:,SWIR1_ix]) - (img[:,:,GREEN_ix] + img[:,:,SWIR1_ix])\n",
    "\n",
    "NDSI.shape"
   ]
  },
  {
   "cell_type": "code",
   "execution_count": null,
   "metadata": {},
   "outputs": [],
   "source": [
    "NDSI"
   ]
  },
  {
   "cell_type": "code",
   "execution_count": null,
   "metadata": {
    "scrolled": true
   },
   "outputs": [],
   "source": [
    "plt.imshow(NDSI, interpolation='none', cmap='RdBu', vmin=-0.3, vmax=0.05)\n",
    "plt.colorbar()\n"
   ]
  },
  {
   "cell_type": "code",
   "execution_count": null,
   "metadata": {},
   "outputs": [],
   "source": [
    "# save the new image\n",
    "filename = os.path.join(PATH, 'landsat_ndsi.tif')\n",
    "outDataset = driver.Create(filename, ds.RasterYSize, ds.RasterXSize, 1, gdal.GDT_Float32)"
   ]
  },
  {
   "cell_type": "code",
   "execution_count": null,
   "metadata": {},
   "outputs": [],
   "source": [
    "# band to save \n",
    "# outBand = outDataset.GetRasterBand(1)\n",
    "# outBand.WriteArray(NDSI)\n",
    "\n",
    "outBand = outDataset.GetRasterBand(1).WriteArray(NDSI)\n"
   ]
  },
  {
   "cell_type": "code",
   "execution_count": null,
   "metadata": {},
   "outputs": [],
   "source": [
    "# projection"
   ]
  },
  {
   "cell_type": "code",
   "execution_count": null,
   "metadata": {},
   "outputs": [],
   "source": [
    "# set projection to datasource \n",
    "outDataset.SetProjection(projection)\n"
   ]
  },
  {
   "cell_type": "code",
   "execution_count": null,
   "metadata": {},
   "outputs": [],
   "source": [
    "# set geotransform \n",
    "outDataset.SetGeoTransform(geo_transform)"
   ]
  },
  {
   "cell_type": "code",
   "execution_count": null,
   "metadata": {},
   "outputs": [],
   "source": [
    "outDataset = None\n",
    "# is it now saved? \n"
   ]
  },
  {
   "cell_type": "code",
   "execution_count": null,
   "metadata": {},
   "outputs": [],
   "source": [
    "os.path.isfile(filename)\n"
   ]
  }
 ],
 "metadata": {
  "kernelspec": {
   "display_name": "Python 3 (ipykernel)",
   "language": "python",
   "name": "python3"
  },
  "language_info": {
   "codemirror_mode": {
    "name": "ipython",
    "version": 3
   },
   "file_extension": ".py",
   "mimetype": "text/x-python",
   "name": "python",
   "nbconvert_exporter": "python",
   "pygments_lexer": "ipython3",
   "version": "3.9.10"
  },
  "nav_menu": {
   "height": "252px",
   "width": "333px"
  },
  "toc": {
   "navigate_menu": true,
   "number_sections": true,
   "sideBar": true,
   "threshold": 6,
   "toc_cell": false,
   "toc_section_display": "block",
   "toc_window_display": false
  }
 },
 "nbformat": 4,
 "nbformat_minor": 1
}
