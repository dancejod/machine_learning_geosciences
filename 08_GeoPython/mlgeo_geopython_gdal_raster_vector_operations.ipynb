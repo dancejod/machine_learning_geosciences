{
 "cells": [
  {
   "cell_type": "markdown",
   "id": "b79dcec0",
   "metadata": {},
   "source": [
    "___\n",
    "\n",
    "# [ Machine Learning in Geosciences ] \n",
    "Department of Applied Geoinformatics and Carthography, Charles University\n",
    "\n",
    "Lukas Brodsky lukas.brodsky@natur.cuni.cz\n"
   ]
  },
  {
   "cell_type": "markdown",
   "id": "1dbc1355",
   "metadata": {},
   "source": [
    "Thi notebook demonstrates rasterization and vectorization (polygomnaztion) processe with Python GDAL/OGR\n",
    "\n",
    "* 1. Rasterization of polygons ; \n",
    "\n",
    "* 2. Vectorization of classification results; \n"
   ]
  },
  {
   "cell_type": "markdown",
   "id": "d16c4015",
   "metadata": {},
   "source": [
    "### Rasterization"
   ]
  },
  {
   "cell_type": "code",
   "execution_count": null,
   "id": "c09272b2",
   "metadata": {},
   "outputs": [],
   "source": [
    "import os\n",
    "import sys\n",
    "import matplotlib.pyplot as plt \n",
    "%matplotlib inline \n",
    "from osgeo import gdal\n",
    "from osgeo import ogr\n",
    "from osgeo import osr"
   ]
  },
  {
   "cell_type": "markdown",
   "id": "d65f6a9c",
   "metadata": {},
   "source": [
    "#### Data"
   ]
  },
  {
   "cell_type": "code",
   "execution_count": null,
   "id": "a479a04b",
   "metadata": {},
   "outputs": [],
   "source": [
    "# Set your own PATH!!! \n",
    "PATH = './data/'\n",
    "\n",
    "if os.path.isdir(PATH): \n",
    "    print('ok')"
   ]
  },
  {
   "cell_type": "code",
   "execution_count": null,
   "id": "901c2529",
   "metadata": {},
   "outputs": [],
   "source": [
    "raster_fn = os.path.join(PATH, 'landsat.tif')\n",
    "vector_fn = os.path.join(PATH, 'polygons.shp')"
   ]
  },
  {
   "cell_type": "code",
   "execution_count": null,
   "id": "3273d350",
   "metadata": {
    "scrolled": true
   },
   "outputs": [],
   "source": [
    "os.path.isfile(raster_fn)"
   ]
  },
  {
   "cell_type": "code",
   "execution_count": null,
   "id": "15f5e143",
   "metadata": {},
   "outputs": [],
   "source": [
    "os.path.isfile(vector_fn)"
   ]
  },
  {
   "cell_type": "code",
   "execution_count": null,
   "id": "85e106d8",
   "metadata": {},
   "outputs": [],
   "source": [
    "vector_fn"
   ]
  },
  {
   "cell_type": "markdown",
   "id": "a5c5d184",
   "metadata": {},
   "source": [
    "#### Reading vector"
   ]
  },
  {
   "cell_type": "code",
   "execution_count": null,
   "id": "29456b64",
   "metadata": {},
   "outputs": [],
   "source": [
    "driver = ogr.GetDriverByName('ESRI Shapefile')\n",
    "datasource = driver.Open(vector_fn, 0)\n",
    "if datasource is None:\n",
    "  print('Could not open file')\n",
    "  sys.exit(1)"
   ]
  },
  {
   "cell_type": "code",
   "execution_count": null,
   "id": "cf54acb0",
   "metadata": {},
   "outputs": [],
   "source": [
    "layer = datasource.GetLayer()"
   ]
  },
  {
   "cell_type": "markdown",
   "id": "f62e4e34",
   "metadata": {},
   "source": [
    "#### Reading raster and meatadata "
   ]
  },
  {
   "cell_type": "code",
   "execution_count": null,
   "id": "88a89bc7",
   "metadata": {},
   "outputs": [],
   "source": [
    "ds = gdal.Open(raster_fn)\n",
    "geo_transform = ds.GetGeoTransform()\n",
    "\n",
    "x_min = geo_transform[0]\n",
    "y_max = geo_transform[3]\n",
    "x_max = x_min + geo_transform[1] * ds.RasterXSize\n",
    "y_min = y_max + geo_transform[5] * ds.RasterYSize\n",
    "x_res = ds.RasterXSize\n",
    "y_res = ds.RasterYSize"
   ]
  },
  {
   "cell_type": "markdown",
   "id": "90dae9d2",
   "metadata": {},
   "source": [
    "#### Rasterization"
   ]
  },
  {
   "cell_type": "code",
   "execution_count": null,
   "id": "3f61618d",
   "metadata": {},
   "outputs": [],
   "source": [
    "pixel_width = geo_transform[1]\n",
    "output_fn = os.path.join(PATH, 'rasterized_poygons.tif')"
   ]
  },
  {
   "cell_type": "code",
   "execution_count": null,
   "id": "cb2ca6e2",
   "metadata": {},
   "outputs": [],
   "source": [
    "# raster target data source to be created\n",
    "target_ds = gdal.GetDriverByName('GTiff').Create(output_fn, x_res, y_res, 1, gdal.GDT_Byte)\n",
    "# setting geotransform metadata\n",
    "target_ds.SetGeoTransform((x_min, pixel_width, 0, y_min, 0, pixel_width))"
   ]
  },
  {
   "cell_type": "code",
   "execution_count": null,
   "id": "86c4c031",
   "metadata": {},
   "outputs": [],
   "source": [
    "# Does the file already exists?"
   ]
  },
  {
   "cell_type": "code",
   "execution_count": null,
   "id": "3461aad8",
   "metadata": {},
   "outputs": [],
   "source": [
    "# addd band \n",
    "band = target_ds.GetRasterBand(1)\n",
    "NoData_value = -99\n",
    "band.SetNoDataValue(NoData_value)\n",
    "band.FlushCache()"
   ]
  },
  {
   "cell_type": "code",
   "execution_count": null,
   "id": "cc2d9fde",
   "metadata": {},
   "outputs": [],
   "source": [
    "# What is the content now? "
   ]
  },
  {
   "cell_type": "code",
   "execution_count": null,
   "id": "8a40a038",
   "metadata": {},
   "outputs": [],
   "source": [
    "# The important step!\n",
    "gdal.RasterizeLayer(target_ds, [1], layer, options=[\"ATTRIBUTE=label\"])"
   ]
  },
  {
   "cell_type": "code",
   "execution_count": null,
   "id": "aea275fb",
   "metadata": {},
   "outputs": [],
   "source": [
    "# Do not forget!\n",
    "target_ds = None"
   ]
  },
  {
   "cell_type": "code",
   "execution_count": null,
   "id": "644f4ab7",
   "metadata": {},
   "outputs": [],
   "source": [
    "# Check in QGIS! "
   ]
  },
  {
   "cell_type": "markdown",
   "id": "8d8fde45",
   "metadata": {},
   "source": [
    "### Raster vectorization"
   ]
  },
  {
   "cell_type": "code",
   "execution_count": null,
   "id": "9933edef",
   "metadata": {},
   "outputs": [],
   "source": [
    "ndsi_fn = os.path.join(PATH, 'landsat_ndsi.tif')\n",
    "os.path.isfile(ndsi_fn)"
   ]
  },
  {
   "cell_type": "code",
   "execution_count": null,
   "id": "719d2435",
   "metadata": {},
   "outputs": [],
   "source": [
    "ndsi_ds = gdal.Open(ndsi_fn)\n",
    "ndsi_band = ndsi_ds.GetRasterBand(1)\n",
    "ndsi = ndsi_band.ReadAsArray()"
   ]
  },
  {
   "cell_type": "code",
   "execution_count": null,
   "id": "17b2eaef",
   "metadata": {},
   "outputs": [],
   "source": [
    "type(ndsi)"
   ]
  },
  {
   "cell_type": "code",
   "execution_count": null,
   "id": "16e749cd",
   "metadata": {
    "scrolled": true
   },
   "outputs": [],
   "source": [
    "plt.imshow(ndsi, interpolation='none', cmap='RdBu', vmin=-0.3, vmax=0.05)\n",
    "plt.colorbar()"
   ]
  },
  {
   "cell_type": "markdown",
   "id": "e0be8d9a",
   "metadata": {},
   "source": [
    "#### Raster classification map"
   ]
  },
  {
   "cell_type": "code",
   "execution_count": null,
   "id": "b355ab4a",
   "metadata": {},
   "outputs": [],
   "source": [
    "glacier = ndsi > -0.1"
   ]
  },
  {
   "cell_type": "code",
   "execution_count": null,
   "id": "48b1eb07",
   "metadata": {
    "scrolled": false
   },
   "outputs": [],
   "source": [
    "plt.imshow(glacier, cmap='RdBu')\n"
   ]
  },
  {
   "cell_type": "code",
   "execution_count": null,
   "id": "716a0035",
   "metadata": {},
   "outputs": [],
   "source": [
    "geo_transform = ndsi_ds.GetGeoTransform()\n",
    "# print(geo_transform)\n"
   ]
  },
  {
   "cell_type": "code",
   "execution_count": null,
   "id": "47e5c538",
   "metadata": {},
   "outputs": [],
   "source": [
    "projection = ndsi_ds.GetProjectionRef()\n",
    "# print(projection)\n"
   ]
  },
  {
   "cell_type": "code",
   "execution_count": null,
   "id": "854ce248",
   "metadata": {},
   "outputs": [],
   "source": [
    "# save the new image\n",
    "driver = gdal.GetDriverByName('Gtiff')\n",
    "filename = os.path.join(PATH, 'glacier_classification.tif')\n",
    "outDataset = driver.Create(filename, ndsi_ds.RasterYSize, ndsi_ds.RasterXSize, 1, gdal.GDT_Byte)"
   ]
  },
  {
   "cell_type": "code",
   "execution_count": null,
   "id": "09b0309e",
   "metadata": {},
   "outputs": [],
   "source": [
    "outBand = outDataset.GetRasterBand(1).WriteArray(glacier * 1)\n",
    "outDataset.SetProjection(projection)\n",
    "outDataset.SetGeoTransform(geo_transform)\n",
    "outDataset = None"
   ]
  },
  {
   "cell_type": "code",
   "execution_count": null,
   "id": "6bc85318",
   "metadata": {
    "scrolled": true
   },
   "outputs": [],
   "source": [
    "cls_ds = gdal.Open(filename)\n",
    "cls_band = cls_ds.GetRasterBand(1)\n"
   ]
  },
  {
   "cell_type": "code",
   "execution_count": null,
   "id": "c515162b",
   "metadata": {},
   "outputs": [],
   "source": [
    "# plt.imshow(temp_band.ReadAsArray())"
   ]
  },
  {
   "cell_type": "markdown",
   "id": "e590b0af",
   "metadata": {},
   "source": [
    "#### Prepare verctor"
   ]
  },
  {
   "cell_type": "code",
   "execution_count": null,
   "id": "2c89ad6c",
   "metadata": {},
   "outputs": [],
   "source": [
    "driver = ogr.GetDriverByName('ESRI Shapefile')\n",
    "vector_path = os.path.join(PATH, 'glacier_classification.shp')\n",
    "out_data = driver.CreateDataSource(vector_path)\n",
    "layer_name = os.path.basename(vector_path).split('.')[0]\n",
    "srs = osr.SpatialReference()\n",
    "srs.ImportFromWkt(ndsi_ds.GetProjectionRef())\n",
    "out_layer = out_data.CreateLayer(layer_name, srs)"
   ]
  },
  {
   "cell_type": "code",
   "execution_count": null,
   "id": "6361d165",
   "metadata": {},
   "outputs": [],
   "source": [
    "# create attribute field(s)\n",
    "fld = ogr.FieldDefn(\"class\", ogr.OFTInteger)\n",
    "out_layer.CreateField(fld)\n",
    "dst_field = out_layer.GetLayerDefn().GetFieldIndex(\"class\")\n"
   ]
  },
  {
   "cell_type": "markdown",
   "id": "a2d4299d",
   "metadata": {},
   "source": [
    "#### Polygonize"
   ]
  },
  {
   "cell_type": "code",
   "execution_count": null,
   "id": "452c182f",
   "metadata": {},
   "outputs": [],
   "source": [
    "# http://pcjericks.github.io/py-gdalogr-cookbook/raster_layers.html#polygonize-a-raster-band\n",
    "gdal.Polygonize(cls_band, cls_band, out_layer, dst_field, [\"8CONNECTED=8\"], callback=None)\n",
    "# not yeat saved to file! \n",
    "\n",
    "# closing \n",
    "out_data = None\n",
    "\n",
    "cls_ds = None\n",
    "ndsi_ds = None\n"
   ]
  }
 ],
 "metadata": {
  "kernelspec": {
   "display_name": "Python 3 (ipykernel)",
   "language": "python",
   "name": "python3"
  },
  "language_info": {
   "codemirror_mode": {
    "name": "ipython",
    "version": 3
   },
   "file_extension": ".py",
   "mimetype": "text/x-python",
   "name": "python",
   "nbconvert_exporter": "python",
   "pygments_lexer": "ipython3",
   "version": "3.9.10"
  }
 },
 "nbformat": 4,
 "nbformat_minor": 5
}
