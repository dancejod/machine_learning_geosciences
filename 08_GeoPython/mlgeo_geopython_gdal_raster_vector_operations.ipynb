{
 "cells": [
  {
   "cell_type": "markdown",
   "id": "b79dcec0",
   "metadata": {},
   "source": [
    "___\n",
    "\n",
    "# [ Machine Learning in Geosciences ] \n",
    "Department of Applied Geoinformatics and Carthography, Charles University\n",
    "\n",
    "Lukas Brodsky lukas.brodsky@natur.cuni.cz\n"
   ]
  },
  {
   "cell_type": "markdown",
   "id": "1dbc1355",
   "metadata": {},
   "source": [
    "Thi notebook demonstrates rasterization and vectorization (polygomnaztion) processe with Python GDAL/OGR\n",
    "\n",
    "* 1. Rasterization of polygons; \n",
    "\n",
    "* 2. Vectorization of classification results; \n"
   ]
  },
  {
   "cell_type": "markdown",
   "id": "d16c4015",
   "metadata": {},
   "source": [
    "### Rasterization"
   ]
  },
  {
   "cell_type": "code",
   "execution_count": null,
   "id": "c09272b2",
   "metadata": {},
   "outputs": [],
   "source": [
    "import os\n",
    "import sys\n",
    "import matplotlib.pyplot as plt \n",
    "%matplotlib inline \n",
    "from osgeo import gdal\n",
    "from osgeo import ogr\n",
    "from osgeo import osr"
   ]
  },
  {
   "cell_type": "markdown",
   "id": "d65f6a9c",
   "metadata": {},
   "source": [
    "#### Data"
   ]
  },
  {
   "cell_type": "code",
   "execution_count": null,
   "id": "a479a04b",
   "metadata": {},
   "outputs": [],
   "source": [
    "# Set your own PATH!!! \n",
    "PATH = './data/'\n",
    "\n",
    "if os.path.isdir(PATH): \n",
    "    print('ok')"
   ]
  },
  {
   "cell_type": "code",
   "execution_count": null,
   "id": "901c2529",
   "metadata": {},
   "outputs": [],
   "source": [
    "raster_fn = os.path.join(PATH, 'landsat.tif')\n",
    "vector_fn = os.path.join(PATH, 'polygons.shp')"
   ]
  },
  {
   "cell_type": "code",
   "execution_count": null,
   "id": "3273d350",
   "metadata": {
    "scrolled": true
   },
   "outputs": [],
   "source": [
    "os.path.isfile(raster_fn)"
   ]
  },
  {
   "cell_type": "code",
   "execution_count": null,
   "id": "15f5e143",
   "metadata": {},
   "outputs": [],
   "source": [
    "os.path.isfile(vector_fn)"
   ]
  },
  {
   "cell_type": "markdown",
   "id": "f62e4e34",
   "metadata": {},
   "source": [
    "#### Reading raster and meatadata "
   ]
  },
  {
   "cell_type": "code",
   "execution_count": null,
   "id": "88a89bc7",
   "metadata": {},
   "outputs": [],
   "source": [
    "ds = gdal.Open(raster_fn)\n",
    "geo_transform = ds.GetGeoTransform()\n",
    "# geotransform metadata\n",
    "x_min = geo_transform[0]\n",
    "y_max = geo_transform[3]\n",
    "x_max = x_min + geo_transform[1] * ds.RasterXSize\n",
    "y_min = y_max + geo_transform[5] * ds.RasterYSize\n",
    "pixel_width = geo_transform[1]\n",
    "# array dimensionality\n",
    "x_size = ds.RasterXSize\n",
    "y_size = ds.RasterYSize"
   ]
  },
  {
   "cell_type": "markdown",
   "id": "90dae9d2",
   "metadata": {},
   "source": [
    "#### Rasterization"
   ]
  },
  {
   "cell_type": "code",
   "execution_count": null,
   "id": "3f61618d",
   "metadata": {},
   "outputs": [],
   "source": [
    "# filename \n",
    "output_fn = os.path.join(PATH, 'rasterized_poygons.tif')"
   ]
  },
  {
   "cell_type": "code",
   "execution_count": null,
   "id": "c4e5d797",
   "metadata": {},
   "outputs": [],
   "source": [
    "# define pixel_size and NoData value of new raster\n",
    "pixel_size = 30\n",
    "NoData_value = -99\n",
    "\n",
    "# open the data source and read in the extent\n",
    "source_ds = ogr.Open(vector_fn)\n",
    "source_layer = source_ds.GetLayer()\n",
    "\n",
    "# create the destination data source\n",
    "target_ds = gdal.GetDriverByName('GTiff').Create(output_fn, x_size, y_size, 1, gdal.GDT_Byte)\n",
    "target_ds.SetGeoTransform(geo_transform)\n",
    "spatialRef = source_layer.GetSpatialRef()\n",
    "projection = spatialRef.ExportToWkt()\n",
    "target_ds.SetProjection(projection)\n",
    "band = target_ds.GetRasterBand(1)\n",
    "band.SetNoDataValue(NoData_value)\n",
    "\n",
    "# rasterize\n",
    "gdal.RasterizeLayer(target_ds, [1], source_layer, options=[\"ATTRIBUTE=label\"])"
   ]
  },
  {
   "cell_type": "code",
   "execution_count": null,
   "id": "0bea9035",
   "metadata": {},
   "outputs": [],
   "source": [
    "# save it! \n",
    "source_ds = None\n",
    "target_ds = None"
   ]
  },
  {
   "cell_type": "code",
   "execution_count": null,
   "id": "644f4ab7",
   "metadata": {},
   "outputs": [],
   "source": [
    "# Check in QGIS! "
   ]
  },
  {
   "cell_type": "markdown",
   "id": "8d8fde45",
   "metadata": {},
   "source": [
    "### Raster vectorization"
   ]
  },
  {
   "cell_type": "code",
   "execution_count": null,
   "id": "9933edef",
   "metadata": {},
   "outputs": [],
   "source": [
    "ndsi_fn = os.path.join(PATH, 'landsat_ndsi.tif')\n",
    "os.path.isfile(ndsi_fn)"
   ]
  },
  {
   "cell_type": "code",
   "execution_count": null,
   "id": "719d2435",
   "metadata": {},
   "outputs": [],
   "source": [
    "ndsi_ds = gdal.Open(ndsi_fn)\n",
    "ndsi_band = ndsi_ds.GetRasterBand(1)\n",
    "ndsi = ndsi_band.ReadAsArray()"
   ]
  },
  {
   "cell_type": "code",
   "execution_count": null,
   "id": "16e749cd",
   "metadata": {
    "scrolled": true
   },
   "outputs": [],
   "source": [
    "plt.imshow(ndsi, interpolation='none', cmap='RdBu', vmin=-0.3, vmax=0.05)\n",
    "plt.colorbar()"
   ]
  },
  {
   "cell_type": "markdown",
   "id": "e0be8d9a",
   "metadata": {},
   "source": [
    "#### Raster classification map"
   ]
  },
  {
   "cell_type": "code",
   "execution_count": null,
   "id": "b355ab4a",
   "metadata": {},
   "outputs": [],
   "source": [
    "glacier = ndsi > -0.1"
   ]
  },
  {
   "cell_type": "code",
   "execution_count": null,
   "id": "975ddc45",
   "metadata": {},
   "outputs": [],
   "source": [
    "glacier"
   ]
  },
  {
   "cell_type": "code",
   "execution_count": null,
   "id": "48b1eb07",
   "metadata": {
    "scrolled": false
   },
   "outputs": [],
   "source": [
    "plt.imshow(glacier, cmap='RdBu')"
   ]
  },
  {
   "cell_type": "code",
   "execution_count": null,
   "id": "716a0035",
   "metadata": {},
   "outputs": [],
   "source": [
    "# metadata\n",
    "geo_transform = ndsi_ds.GetGeoTransform()\n",
    "# print(geo_transform)\n",
    "projection = ndsi_ds.GetProjectionRef()\n",
    "# print(projection)"
   ]
  },
  {
   "cell_type": "code",
   "execution_count": null,
   "id": "aef2bd1f",
   "metadata": {},
   "outputs": [],
   "source": [
    "# first save the raster\n",
    "filename = os.path.join(PATH, 'glacier_classification.tif')"
   ]
  },
  {
   "cell_type": "code",
   "execution_count": null,
   "id": "41b60bb1",
   "metadata": {},
   "outputs": [],
   "source": [
    "target_ds = gdal.GetDriverByName('GTiff').Create(filename, x_size, y_size, 1, gdal.GDT_Byte)\n",
    "target_ds.SetGeoTransform(geo_transform)\n",
    "target_ds.SetProjection(projection)"
   ]
  },
  {
   "cell_type": "code",
   "execution_count": null,
   "id": "5f521b7b",
   "metadata": {},
   "outputs": [],
   "source": [
    "ndsi_band = target_ds.GetRasterBand(1).WriteArray(glacier * 1)\n",
    "target_ds = None"
   ]
  },
  {
   "cell_type": "code",
   "execution_count": null,
   "id": "6bc85318",
   "metadata": {
    "scrolled": true
   },
   "outputs": [],
   "source": [
    "cls_ds = gdal.Open(filename)\n",
    "cls_band = cls_ds.GetRasterBand(1)"
   ]
  },
  {
   "cell_type": "code",
   "execution_count": null,
   "id": "59e80862",
   "metadata": {},
   "outputs": [],
   "source": [
    "cls_band"
   ]
  },
  {
   "cell_type": "code",
   "execution_count": null,
   "id": "c515162b",
   "metadata": {},
   "outputs": [],
   "source": [
    "plt.imshow(cls_band.ReadAsArray())"
   ]
  },
  {
   "cell_type": "markdown",
   "id": "e590b0af",
   "metadata": {},
   "source": [
    "#### Prepare verctor"
   ]
  },
  {
   "cell_type": "code",
   "execution_count": null,
   "id": "1503728d",
   "metadata": {},
   "outputs": [],
   "source": [
    "# vector fine name\n",
    "vector_fn = os.path.join(PATH, 'glacier_classification.shp')"
   ]
  },
  {
   "cell_type": "code",
   "execution_count": null,
   "id": "1ffaa498",
   "metadata": {},
   "outputs": [],
   "source": [
    "def prepare_vector(fn, raster_fn): \n",
    "    driver = ogr.GetDriverByName('ESRI Shapefile')\n",
    "    # prepare data source to be cloused to save the results! \n",
    "    out_data = driver.CreateDataSource(fn)\n",
    "    layer_name = os.path.basename(fn).split('.')[0]\n",
    "    ndsi_ds = gdal.Open(raster_fn)\n",
    "    srs = osr.SpatialReference()\n",
    "    srs.ImportFromWkt(ndsi_ds.GetProjectionRef())\n",
    "    out_layer = out_data.CreateLayer(layer_name, srs)\n",
    "    fld = ogr.FieldDefn(\"class\", ogr.OFTInteger)\n",
    "    out_layer.CreateField(fld)\n",
    "    dst_field = out_layer.GetLayerDefn().GetFieldIndex(\"class\")\n",
    "    \n",
    "    return out_data, out_layer, dst_field"
   ]
  },
  {
   "cell_type": "code",
   "execution_count": null,
   "id": "78750d69",
   "metadata": {},
   "outputs": [],
   "source": [
    "out_data, out_layer, dst_field = prepare_vector(vector_fn, ndsi_fn)"
   ]
  },
  {
   "cell_type": "markdown",
   "id": "a2d4299d",
   "metadata": {},
   "source": [
    "#### Polygonize"
   ]
  },
  {
   "cell_type": "code",
   "execution_count": null,
   "id": "f0280d31",
   "metadata": {},
   "outputs": [],
   "source": [
    "cls_band"
   ]
  },
  {
   "cell_type": "code",
   "execution_count": null,
   "id": "452c182f",
   "metadata": {},
   "outputs": [],
   "source": [
    "# http://pcjericks.github.io/py-gdalogr-cookbook/raster_layers.html#polygonize-a-raster-band\n",
    "gdal.Polygonize(cls_band, cls_band, out_layer, dst_field, [\"8CONNECTED=8\"], callback=None)\n",
    "# not yeat saved to file! "
   ]
  },
  {
   "cell_type": "code",
   "execution_count": null,
   "id": "3675c010",
   "metadata": {},
   "outputs": [],
   "source": [
    "# closing \n",
    "out_data = None\n",
    "\n",
    "cls_ds = None\n",
    "ndsi_ds = None"
   ]
  }
 ],
 "metadata": {
  "kernelspec": {
   "display_name": "Python 3 (ipykernel)",
   "language": "python",
   "name": "python3"
  },
  "language_info": {
   "codemirror_mode": {
    "name": "ipython",
    "version": 3
   },
   "file_extension": ".py",
   "mimetype": "text/x-python",
   "name": "python",
   "nbconvert_exporter": "python",
   "pygments_lexer": "ipython3",
   "version": "3.9.10"
  }
 },
 "nbformat": 4,
 "nbformat_minor": 5
}
