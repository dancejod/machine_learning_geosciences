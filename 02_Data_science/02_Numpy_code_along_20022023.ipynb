{
 "cells": [
  {
   "cell_type": "markdown",
   "id": "e0fb7242",
   "metadata": {},
   "source": [
    "# ___\n",
    "\n",
    "# [ Machine Learning in Geosciences ]\n",
    "\n",
    "**Department of Applied Geoinformatics and Carthography, Charles University** \n",
    "\n",
    "*Lukas Brodsky lukas.brodsky@natur.cuni.cz*\n",
    "    \n",
    "___"
   ]
  },
  {
   "cell_type": "markdown",
   "id": "c734ac71",
   "metadata": {},
   "source": [
    "## Numercial Python introduction \n",
    "\n",
    "#### Code along! "
   ]
  },
  {
   "cell_type": "code",
   "execution_count": 1,
   "id": "2457c0b2",
   "metadata": {},
   "outputs": [],
   "source": [
    "# import numpy \n",
    "import numpy as np "
   ]
  },
  {
   "cell_type": "code",
   "execution_count": 31,
   "id": "0a8191ed",
   "metadata": {},
   "outputs": [],
   "source": [
    "# Create array from list (1D) \n",
    "l = [1.1,2.5,3.3,4.4,5.1]\n",
    "my_array = np.array(l, np.int64)"
   ]
  },
  {
   "cell_type": "code",
   "execution_count": 32,
   "id": "09656165",
   "metadata": {},
   "outputs": [
    {
     "data": {
      "text/plain": [
       "numpy.ndarray"
      ]
     },
     "execution_count": 32,
     "metadata": {},
     "output_type": "execute_result"
    }
   ],
   "source": [
    "type(my_array)"
   ]
  },
  {
   "cell_type": "code",
   "execution_count": 33,
   "id": "6bb21e02",
   "metadata": {},
   "outputs": [
    {
     "data": {
      "text/plain": [
       "numpy.int64"
      ]
     },
     "execution_count": 33,
     "metadata": {},
     "output_type": "execute_result"
    }
   ],
   "source": [
    "type(my_array[0])"
   ]
  },
  {
   "cell_type": "code",
   "execution_count": 34,
   "id": "021ffbb7",
   "metadata": {},
   "outputs": [
    {
     "data": {
      "text/plain": [
       "1"
      ]
     },
     "execution_count": 34,
     "metadata": {},
     "output_type": "execute_result"
    }
   ],
   "source": [
    "my_array[0]"
   ]
  },
  {
   "cell_type": "code",
   "execution_count": 10,
   "id": "ee707b24",
   "metadata": {},
   "outputs": [
    {
     "data": {
      "text/plain": [
       "(5,)"
      ]
     },
     "execution_count": 10,
     "metadata": {},
     "output_type": "execute_result"
    }
   ],
   "source": [
    "my_array.shape"
   ]
  },
  {
   "cell_type": "code",
   "execution_count": 14,
   "id": "c8b3ca5e",
   "metadata": {},
   "outputs": [],
   "source": [
    "# Create array from list (2D) \n",
    "l2 = [[1, 2, 3],[4, 5, 6]]\n",
    "array_2d = np.array(l2)"
   ]
  },
  {
   "cell_type": "code",
   "execution_count": 18,
   "id": "2bebb1dc",
   "metadata": {},
   "outputs": [
    {
     "data": {
      "text/plain": [
       "(2, 3)"
      ]
     },
     "execution_count": 18,
     "metadata": {},
     "output_type": "execute_result"
    }
   ],
   "source": [
    "# check the shape \n",
    "array_2d.shape"
   ]
  },
  {
   "cell_type": "code",
   "execution_count": 22,
   "id": "9670237e",
   "metadata": {},
   "outputs": [
    {
     "data": {
      "text/plain": [
       "1"
      ]
     },
     "execution_count": 22,
     "metadata": {},
     "output_type": "execute_result"
    }
   ],
   "source": [
    "# Check the data type of the array \n",
    "my_array[0]"
   ]
  },
  {
   "cell_type": "code",
   "execution_count": 23,
   "id": "372745d5",
   "metadata": {},
   "outputs": [
    {
     "data": {
      "text/plain": [
       "numpy.int64"
      ]
     },
     "execution_count": 23,
     "metadata": {},
     "output_type": "execute_result"
    }
   ],
   "source": [
    "type(my_array[0])"
   ]
  },
  {
   "cell_type": "code",
   "execution_count": 25,
   "id": "1c0f27ec",
   "metadata": {},
   "outputs": [
    {
     "data": {
      "text/plain": [
       "numpy.float64"
      ]
     },
     "execution_count": 25,
     "metadata": {},
     "output_type": "execute_result"
    }
   ],
   "source": [
    "my_array = np.array(l, np.float64)\n",
    "type(my_array[0])"
   ]
  },
  {
   "cell_type": "code",
   "execution_count": 26,
   "id": "09b919a9",
   "metadata": {},
   "outputs": [
    {
     "data": {
      "text/plain": [
       "array(1)"
      ]
     },
     "execution_count": 26,
     "metadata": {},
     "output_type": "execute_result"
    }
   ],
   "source": [
    "np.array(1)"
   ]
  },
  {
   "cell_type": "code",
   "execution_count": 37,
   "id": "fa9cb930",
   "metadata": {},
   "outputs": [
    {
     "data": {
      "text/plain": [
       "array([[0, 0, 0, 0, 0],\n",
       "       [0, 0, 0, 0, 0],\n",
       "       [0, 0, 0, 0, 0]])"
      ]
     },
     "execution_count": 37,
     "metadata": {},
     "output_type": "execute_result"
    }
   ],
   "source": [
    "# Generate array of zeros (ones)\n",
    "np.zeros((3, 5), np.int64)"
   ]
  },
  {
   "cell_type": "code",
   "execution_count": 38,
   "id": "bf92da1b",
   "metadata": {},
   "outputs": [
    {
     "data": {
      "text/plain": [
       "array([[1, 1, 1, 1, 1],\n",
       "       [1, 1, 1, 1, 1],\n",
       "       [1, 1, 1, 1, 1]])"
      ]
     },
     "execution_count": 38,
     "metadata": {},
     "output_type": "execute_result"
    }
   ],
   "source": [
    "np.ones((3, 5), np.int64)"
   ]
  },
  {
   "cell_type": "code",
   "execution_count": 93,
   "id": "50ac28fc",
   "metadata": {},
   "outputs": [
    {
     "data": {
      "text/plain": [
       "array([  0.,  10.,  20.,  30.,  40.,  50.,  60.,  70.,  80.,  90., 100.])"
      ]
     },
     "execution_count": 93,
     "metadata": {},
     "output_type": "execute_result"
    }
   ],
   "source": [
    "# Create linspace from 1 to 10, 10 elements\n",
    "lin = np.linspace(0, 100, 11)\n",
    "lin"
   ]
  },
  {
   "cell_type": "code",
   "execution_count": 70,
   "id": "6e2a6123",
   "metadata": {},
   "outputs": [],
   "source": [
    "# Generate random numbers with Numpy: random.rand, random.randn, random.randint\n",
    "nrand = np.random.randn(100)"
   ]
  },
  {
   "cell_type": "code",
   "execution_count": 71,
   "id": "256cc435",
   "metadata": {},
   "outputs": [
    {
     "data": {
      "text/plain": [
       "(array([ 1.,  1.,  3., 14., 16., 27., 21.,  5., 10.,  2.]),\n",
       " array([-3.27688033, -2.68620979, -2.09553925, -1.50486872, -0.91419818,\n",
       "        -0.32352764,  0.26714289,  0.85781343,  1.44848397,  2.0391545 ,\n",
       "         2.62982504]),\n",
       " <BarContainer object of 10 artists>)"
      ]
     },
     "execution_count": 71,
     "metadata": {},
     "output_type": "execute_result"
    },
    {
     "data": {
      "image/png": "[encoded data removed]",
      "text/plain": [
       "<Figure size 432x288 with 1 Axes>"
      ]
     },
     "metadata": {
      "needs_background": "light"
     },
     "output_type": "display_data"
    }
   ],
   "source": [
    "import matplotlib.pyplot as plt\n",
    "# %matplotlib inline\n",
    "plt.hist(nrand)"
   ]
  },
  {
   "cell_type": "code",
   "execution_count": 74,
   "id": "266c1e44",
   "metadata": {},
   "outputs": [
    {
     "data": {
      "text/plain": [
       "(4, 10, 10)"
      ]
     },
     "execution_count": 74,
     "metadata": {},
     "output_type": "execute_result"
    }
   ],
   "source": [
    "# Create 3d array of random nambers with shape (4, 10, 10) \n",
    "# reshape it to (4, 100)\n",
    "random = np.random.rand(4, 10, 10)\n",
    "random.shape"
   ]
  },
  {
   "cell_type": "code",
   "execution_count": 80,
   "id": "40436974",
   "metadata": {},
   "outputs": [
    {
     "data": {
      "text/plain": [
       "<matplotlib.colorbar.Colorbar at 0x113fa01c0>"
      ]
     },
     "execution_count": 80,
     "metadata": {},
     "output_type": "execute_result"
    },
    {
     "data": {
      "image/png": "[encoded data removed]",
      "text/plain": [
       "<Figure size 432x288 with 2 Axes>"
      ]
     },
     "metadata": {
      "needs_background": "light"
     },
     "output_type": "display_data"
    }
   ],
   "source": [
    "plt.imshow(random[3, :, :])\n",
    "plt.colorbar()"
   ]
  },
  {
   "cell_type": "code",
   "execution_count": 86,
   "id": "c9d80bac",
   "metadata": {},
   "outputs": [],
   "source": [
    "random_1d = random.reshape(random.shape[0], random.shape[1] * random.shape[2]).shape\n",
    "# plt.imshow(random_1d)"
   ]
  },
  {
   "cell_type": "code",
   "execution_count": 89,
   "id": "6257faf7",
   "metadata": {},
   "outputs": [
    {
     "data": {
      "text/plain": [
       "0.4995780965969373"
      ]
     },
     "execution_count": 89,
     "metadata": {},
     "output_type": "execute_result"
    }
   ],
   "source": [
    "# Evaluate min and max value of the above array\n",
    "np.mean(random)"
   ]
  },
  {
   "cell_type": "code",
   "execution_count": 95,
   "id": "5d0a2c87",
   "metadata": {},
   "outputs": [
    {
     "data": {
      "text/plain": [
       "10"
      ]
     },
     "execution_count": 95,
     "metadata": {},
     "output_type": "execute_result"
    }
   ],
   "source": [
    "# Find index of the min value of the linspace created above \n",
    "np.argmax(lin)"
   ]
  },
  {
   "cell_type": "code",
   "execution_count": null,
   "id": "09766791",
   "metadata": {},
   "outputs": [],
   "source": [
    "# Find index of the min value of the linspace created above \n"
   ]
  },
  {
   "cell_type": "code",
   "execution_count": 99,
   "id": "b3f61803",
   "metadata": {},
   "outputs": [
    {
     "data": {
      "text/plain": [
       "array([ 0., 10.])"
      ]
     },
     "execution_count": 99,
     "metadata": {},
     "output_type": "execute_result"
    }
   ],
   "source": [
    "# Array indexing: select the first two values of the linspace array \n",
    "lin[0:2]"
   ]
  },
  {
   "cell_type": "code",
   "execution_count": 111,
   "id": "f2f5379d",
   "metadata": {},
   "outputs": [
    {
     "data": {
      "text/plain": [
       "array([  0.,  10.,  20.,  30.,  40.,  50.,  60.,  70.,  80.,  90., 100.])"
      ]
     },
     "execution_count": 111,
     "metadata": {},
     "output_type": "execute_result"
    }
   ],
   "source": [
    "# Array indexing: select the last three values of the linspace array \n",
    "lin[:]"
   ]
  },
  {
   "cell_type": "code",
   "execution_count": 114,
   "id": "cd034532",
   "metadata": {},
   "outputs": [
    {
     "data": {
      "text/plain": [
       "array([[0.26662559, 0.91468905, 0.23403166, 0.51143207, 0.41593603,\n",
       "        0.64373168, 0.65111359, 0.27791836, 0.5567392 , 0.58010879],\n",
       "       [0.66955544, 0.25385556, 0.86592673, 0.74595957, 0.35538025,\n",
       "        0.32097244, 0.03161663, 0.5477636 , 0.85073014, 0.6935608 ],\n",
       "       [0.75253622, 0.65929745, 0.05645066, 0.72979298, 0.08210991,\n",
       "        0.09470368, 0.04400539, 0.19254787, 0.2642582 , 0.48414011],\n",
       "       [0.19221244, 0.19297261, 0.77634273, 0.26387382, 0.3146342 ,\n",
       "        0.06836973, 0.05499884, 0.35388932, 0.98650431, 0.597822  ],\n",
       "       [0.5182483 , 0.29662803, 0.44253152, 0.56017198, 0.86111663,\n",
       "        0.41695173, 0.78360986, 0.72829002, 0.61017861, 0.41115494],\n",
       "       [0.49740485, 0.74647939, 0.62285517, 0.44335832, 0.86110131,\n",
       "        0.62026393, 0.08842489, 0.21148156, 0.30510006, 0.97927415],\n",
       "       [0.02264537, 0.153043  , 0.91095103, 0.99473354, 0.74921305,\n",
       "        0.68671751, 0.84538554, 0.52368494, 0.23661134, 0.87755662],\n",
       "       [0.32918818, 0.21336616, 0.74205942, 0.86303836, 0.80536388,\n",
       "        0.92243405, 0.97214349, 0.98208569, 0.15314024, 0.99487374],\n",
       "       [0.07639612, 0.51333091, 0.76450881, 0.40887137, 0.65871092,\n",
       "        0.0344242 , 0.04939782, 0.19437819, 0.28832381, 0.02071347],\n",
       "       [0.67562607, 0.71529239, 0.08653036, 0.48423679, 0.14441714,\n",
       "        0.85038842, 0.87502009, 0.57209017, 0.61115202, 0.71658388]])"
      ]
     },
     "execution_count": 114,
     "metadata": {},
     "output_type": "execute_result"
    }
   ],
   "source": [
    "# Array slicing ND matrix, use the above created array (4, 10, 10) \n",
    "# and select the 2D subset - the first element of the first dim. and the full second and third dimension\n",
    "random[1, :, :]"
   ]
  },
  {
   "cell_type": "code",
   "execution_count": 117,
   "id": "bb9c8c19",
   "metadata": {},
   "outputs": [
    {
     "data": {
      "text/plain": [
       "(10, 10, 4)"
      ]
     },
     "execution_count": 117,
     "metadata": {},
     "output_type": "execute_result"
    }
   ],
   "source": [
    "random.reshape(10, 10, 4).shape"
   ]
  },
  {
   "cell_type": "code",
   "execution_count": 125,
   "id": "7c135cb9",
   "metadata": {},
   "outputs": [
    {
     "data": {
      "text/plain": [
       "array([[1.09584034e+00, 1.06997255e+00, 2.94136434e+00, 1.04773149e+00,\n",
       "        1.86484181e+00, 2.13813420e-01, 1.20719998e+00, 1.12894936e+00,\n",
       "        1.55969888e+00, 4.86789750e-01],\n",
       "       [1.24792304e+00, 1.56832251e+00, 4.36998047e-01, 6.36565174e-01,\n",
       "        2.30350641e+00, 2.79041250e+00, 2.18193707e+01, 1.67522097e-01,\n",
       "        4.32581608e-01, 2.82007417e-01],\n",
       "       [6.69789593e-01, 1.29667497e-01, 8.44651421e-01, 8.47185158e-01,\n",
       "        5.13051233e+00, 9.63144637e-01, 1.27973905e+01, 1.76533354e+00,\n",
       "        2.55969951e+00, 1.34720490e+00],\n",
       "       [2.59404202e+00, 7.68862514e-02, 9.09815680e-01, 3.18951980e+00,\n",
       "        1.72107323e+00, 3.81904336e+00, 1.37576701e+01, 9.49560183e-01,\n",
       "        2.38740418e-01, 7.07048577e-02],\n",
       "       [1.32440585e-01, 1.80510888e+00, 1.21266393e+00, 1.43804942e+00,\n",
       "        6.28277819e-01, 1.40001996e-02, 1.21207761e+00, 1.28227550e+00,\n",
       "        1.19939566e+00, 1.49897143e+00],\n",
       "       [3.94427328e-01, 1.18431577e+00, 1.30836576e+00, 1.17958668e+00,\n",
       "        1.02267179e+00, 6.62419921e-01, 2.67533361e+00, 2.88363856e-01,\n",
       "        2.41696573e+00, 3.38200221e-01],\n",
       "       [1.76319318e+01, 2.96669390e+00, 8.13504108e-01, 7.68319223e-01,\n",
       "        5.23692436e-01, 9.90550614e-01, 1.05443145e+00, 1.73686015e+00,\n",
       "        3.51778857e+00, 4.00112265e-01],\n",
       "       [1.08826196e+00, 2.94698895e+00, 1.25260251e+00, 4.31479943e-01,\n",
       "        2.26161142e-01, 7.34351614e-01, 7.65331709e-01, 3.75820622e-01,\n",
       "        2.53560383e+00, 9.98273686e-01],\n",
       "       [4.46107661e+00, 5.28659773e-01, 5.59120852e-01, 2.32851010e+00,\n",
       "        3.85004608e-01, 2.79993044e+01, 5.60471895e+00, 3.26655234e-01,\n",
       "        2.72599624e-02, 9.21388072e+00],\n",
       "       [5.72499587e-01, 1.81799910e-01, 6.10025224e+00, 1.32491450e-01,\n",
       "        3.93638977e+00, 6.13565410e-01, 2.63871579e-01, 1.45855291e+00,\n",
       "        1.58007167e-01, 7.35296735e-01]])"
      ]
     },
     "execution_count": 125,
     "metadata": {},
     "output_type": "execute_result"
    }
   ],
   "source": [
    "# Simple aritmetics: add the first two \"bands\" of the (4, 10, 10) array\n",
    "# Suppose the first dimention defines the 'bands'\n",
    "addition = random[0, :, :] + random[1, :, :]\n",
    "addition"
   ]
  },
  {
   "cell_type": "code",
   "execution_count": 129,
   "id": "c89ef64b",
   "metadata": {},
   "outputs": [
    {
     "data": {
      "text/plain": [
       "0.12874002927608985"
      ]
     },
     "execution_count": 129,
     "metadata": {},
     "output_type": "execute_result"
    }
   ],
   "source": [
    "# Dot product \n",
    "# create two vectors a and b with three random variables\n",
    "# calculate a dot product c = (w1 x a1 + w2 x a2 + w3 x a3)\n",
    "w = np.random.randn(3) \n",
    "a = np.random.rand(3)\n",
    "np.dot(w, a)"
   ]
  },
  {
   "cell_type": "code",
   "execution_count": 131,
   "id": "700ad800",
   "metadata": {},
   "outputs": [
    {
     "data": {
      "text/plain": [
       "array([0.05403169, 0.62492604, 0.18126184])"
      ]
     },
     "execution_count": 131,
     "metadata": {},
     "output_type": "execute_result"
    }
   ],
   "source": [
    "a"
   ]
  },
  {
   "cell_type": "code",
   "execution_count": null,
   "id": "efb9721f",
   "metadata": {},
   "outputs": [],
   "source": []
  },
  {
   "cell_type": "code",
   "execution_count": null,
   "id": "f3b62372",
   "metadata": {},
   "outputs": [],
   "source": []
  },
  {
   "cell_type": "code",
   "execution_count": 130,
   "id": "bfe99528",
   "metadata": {},
   "outputs": [
    {
     "data": {
      "text/plain": [
       "array([ 5.40316889, 62.49260373, 18.12618361])"
      ]
     },
     "execution_count": 130,
     "metadata": {},
     "output_type": "execute_result"
    }
   ],
   "source": [
    "# Vector - scalar multiplication: a * s\n",
    "s = 100\n",
    "a * s"
   ]
  },
  {
   "cell_type": "code",
   "execution_count": null,
   "id": "3a1818e1",
   "metadata": {},
   "outputs": [],
   "source": []
  },
  {
   "cell_type": "code",
   "execution_count": 132,
   "id": "b491ffb9",
   "metadata": {},
   "outputs": [
    {
     "data": {
      "text/plain": [
       "array([[-1.16739424, -2.85627045, -2.02512774],\n",
       "       [-1.20044091, -0.75922824,  1.4150718 ],\n",
       "       [ 1.75825354,  1.88030371, -1.25137782]])"
      ]
     },
     "execution_count": 132,
     "metadata": {},
     "output_type": "execute_result"
    }
   ],
   "source": [
    "# Matrix - matrix arithmetic: create two 2D matrices of shape (3, 3), add them together\n",
    "w = np.random.randn(3, 3)\n",
    "a = np.random.rand(3, 3)\n",
    "w + w"
   ]
  },
  {
   "cell_type": "code",
   "execution_count": null,
   "id": "ead847ee",
   "metadata": {},
   "outputs": [],
   "source": []
  }
 ],
 "metadata": {
  "kernelspec": {
   "display_name": "Python 3 (ipykernel)",
   "language": "python",
   "name": "python3"
  },
  "language_info": {
   "codemirror_mode": {
    "name": "ipython",
    "version": 3
   },
   "file_extension": ".py",
   "mimetype": "text/x-python",
   "name": "python",
   "nbconvert_exporter": "python",
   "pygments_lexer": "ipython3",
   "version": "3.9.10"
  }
 },
 "nbformat": 4,
 "nbformat_minor": 5
}
