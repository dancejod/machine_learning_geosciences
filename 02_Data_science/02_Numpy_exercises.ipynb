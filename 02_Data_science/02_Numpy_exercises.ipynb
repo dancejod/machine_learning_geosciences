{
 "cells": [
  {
   "cell_type": "markdown",
   "id": "388c2301",
   "metadata": {},
   "source": [
    "# ___\n",
    "\n",
    "# [ Machine Learning in Geosciences ]\n",
    "\n",
    "**Department of Applied Geoinformatics and Carthography, Charles University** \n",
    "\n",
    "*Lukas Brodsky lukas.brodsky@natur.cuni.cz*\n",
    "    \n",
    "___"
   ]
  },
  {
   "cell_type": "markdown",
   "id": "ac6fcf59",
   "metadata": {},
   "source": [
    "## NumPy exercises\n",
    "\n",
    "Please solve the following exercises using Numerical Python (NumPy)"
   ]
  },
  {
   "cell_type": "code",
   "execution_count": null,
   "id": "6ca9295c",
   "metadata": {},
   "outputs": [],
   "source": [
    "# 1/ import NumPy aliased as np \n",
    "pass"
   ]
  },
  {
   "cell_type": "code",
   "execution_count": null,
   "id": "3544a285",
   "metadata": {},
   "outputs": [],
   "source": [
    "# 2 Create Numpy ndarray from below given list. \n",
    "short_list = [1, 2, 3, 4, 5]\n",
    "pass "
   ]
  },
  {
   "cell_type": "code",
   "execution_count": null,
   "id": "79ef90a5",
   "metadata": {},
   "outputs": [],
   "source": [
    "# 3/ Create Numpy 2D array of zeros with shape 10 x 10.  \n",
    "pass "
   ]
  },
  {
   "cell_type": "code",
   "execution_count": null,
   "id": "aeb3c646",
   "metadata": {},
   "outputs": [],
   "source": [
    "# 4/ Create Numpy vector from 0 to 100 with step 5. \n",
    "pass "
   ]
  },
  {
   "cell_type": "code",
   "execution_count": null,
   "id": "ca26d3cb",
   "metadata": {},
   "outputs": [],
   "source": [
    "# 5/ Create Numpy 3D array of random values with shape 6 x 100 x 100\n",
    "pass "
   ]
  },
  {
   "cell_type": "code",
   "execution_count": null,
   "id": "651c0ea2",
   "metadata": {},
   "outputs": [],
   "source": [
    "# 6/ Evaluate the data type of the array \n",
    "pass "
   ]
  },
  {
   "cell_type": "code",
   "execution_count": null,
   "id": "8eb29b3e",
   "metadata": {},
   "outputs": [],
   "source": [
    "# 7/ Reshape the above created array into 6 x 10000 \n",
    "pass "
   ]
  },
  {
   "cell_type": "code",
   "execution_count": null,
   "id": "c5950b7b",
   "metadata": {},
   "outputs": [],
   "source": [
    "# 8/ Evaluate min and max value of the above array\n",
    "pass "
   ]
  },
  {
   "cell_type": "code",
   "execution_count": null,
   "id": "8265db5f",
   "metadata": {},
   "outputs": [],
   "source": [
    "# 9/ Apply this formula: y = alpha + beta * X and visualize with Matplotlib imshow().\n",
    "\n",
    "X = np.random.randint(0,25,25)\n",
    "alpha = 0.1\n",
    "beta = 0.75\n",
    "pass"
   ]
  },
  {
   "cell_type": "code",
   "execution_count": null,
   "id": "fa1721c4",
   "metadata": {},
   "outputs": [],
   "source": [
    "# 10/ Create two vectors w and x of shape 10 and multiply these \n",
    "pass"
   ]
  },
  {
   "cell_type": "code",
   "execution_count": null,
   "id": "b3b38890",
   "metadata": {},
   "outputs": [],
   "source": [
    "# 11/ Calcualte a dot product of the above two vectors\n",
    "pass"
   ]
  },
  {
   "cell_type": "code",
   "execution_count": null,
   "id": "4b00737a",
   "metadata": {},
   "outputs": [],
   "source": [
    "# 12/ Find a maxiumum of the resulting vector \n",
    "pass "
   ]
  },
  {
   "cell_type": "code",
   "execution_count": null,
   "id": "4867d31e",
   "metadata": {},
   "outputs": [],
   "source": [
    "# 13/ What id the value of the maximum? \n",
    "pass "
   ]
  },
  {
   "cell_type": "code",
   "execution_count": null,
   "id": "400ce537",
   "metadata": {},
   "outputs": [],
   "source": [
    "# 14/ Calculate a dot product from the given arrays. Please note these are provided as lists. \n",
    "\n",
    "A_list = [[10, 220],\n",
    "          [3, 4],\n",
    "          [50, 60]] \n",
    "\n",
    "B_list = [[1, 2],\n",
    "          [30, 40]]\n",
    "pass "
   ]
  },
  {
   "cell_type": "code",
   "execution_count": null,
   "id": "d44dab5e",
   "metadata": {},
   "outputs": [],
   "source": [
    "# 15/ Print subset (2, 2) for  A array \n",
    "pass "
   ]
  }
 ],
 "metadata": {
  "kernelspec": {
   "display_name": "Python 3 (ipykernel)",
   "language": "python",
   "name": "python3"
  },
  "language_info": {
   "codemirror_mode": {
    "name": "ipython",
    "version": 3
   },
   "file_extension": ".py",
   "mimetype": "text/x-python",
   "name": "python",
   "nbconvert_exporter": "python",
   "pygments_lexer": "ipython3",
   "version": "3.9.10"
  }
 },
 "nbformat": 4,
 "nbformat_minor": 5
}
