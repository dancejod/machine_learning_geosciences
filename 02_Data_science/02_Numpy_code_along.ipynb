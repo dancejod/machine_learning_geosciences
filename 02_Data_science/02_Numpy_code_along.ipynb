{
 "cells": [
  {
   "cell_type": "markdown",
   "id": "e0fb7242",
   "metadata": {},
   "source": [
    "# ___\n",
    "\n",
    "# [ Machine Learning in Geosciences ]\n",
    "\n",
    "**Department of Applied Geoinformatics and Carthography, Charles University** \n",
    "\n",
    "*Lukas Brodsky lukas.brodsky@natur.cuni.cz*\n",
    "    \n",
    "___"
   ]
  },
  {
   "cell_type": "markdown",
   "id": "c734ac71",
   "metadata": {},
   "source": [
    "## Numercial Python introduction \n",
    "\n",
    "#### Code along! "
   ]
  },
  {
   "cell_type": "code",
   "execution_count": null,
   "id": "2457c0b2",
   "metadata": {},
   "outputs": [],
   "source": [
    "# import numpy \n",
    "import numpy as np "
   ]
  },
  {
   "cell_type": "code",
   "execution_count": null,
   "id": "0a8191ed",
   "metadata": {},
   "outputs": [],
   "source": [
    "# Create array from list (1D) \n"
   ]
  },
  {
   "cell_type": "code",
   "execution_count": null,
   "id": "c8b3ca5e",
   "metadata": {},
   "outputs": [],
   "source": [
    "# Create array from list (2D) \n"
   ]
  },
  {
   "cell_type": "code",
   "execution_count": null,
   "id": "2bebb1dc",
   "metadata": {},
   "outputs": [],
   "source": [
    "# check the shape \n"
   ]
  },
  {
   "cell_type": "code",
   "execution_count": null,
   "id": "9670237e",
   "metadata": {},
   "outputs": [],
   "source": [
    "# Check the data type of the array \n"
   ]
  },
  {
   "cell_type": "code",
   "execution_count": null,
   "id": "fa9cb930",
   "metadata": {},
   "outputs": [],
   "source": [
    "# Generate array of zeros (ones)\n"
   ]
  },
  {
   "cell_type": "code",
   "execution_count": null,
   "id": "50ac28fc",
   "metadata": {},
   "outputs": [],
   "source": [
    "# Create linscpace from 1 to 10, 10 elements\n"
   ]
  },
  {
   "cell_type": "code",
   "execution_count": null,
   "id": "6e2a6123",
   "metadata": {},
   "outputs": [],
   "source": [
    "# Generate random numbers with Numpy: random.rand, random.randn, random.randint\n"
   ]
  },
  {
   "cell_type": "code",
   "execution_count": null,
   "id": "266c1e44",
   "metadata": {},
   "outputs": [],
   "source": [
    "# Create 3d array of random nambers with shape (4, 10, 10) \n",
    "# reshape it to (4, 100)\n"
   ]
  },
  {
   "cell_type": "code",
   "execution_count": null,
   "id": "6257faf7",
   "metadata": {},
   "outputs": [],
   "source": [
    "# Evaluate min and max value of the above array\n"
   ]
  },
  {
   "cell_type": "code",
   "execution_count": null,
   "id": "5d0a2c87",
   "metadata": {},
   "outputs": [],
   "source": [
    "# Find index of the min value of the linspace created above \n"
   ]
  },
  {
   "cell_type": "code",
   "execution_count": null,
   "id": "09766791",
   "metadata": {},
   "outputs": [],
   "source": [
    "# Find index of the min value of the linspace created above \n"
   ]
  },
  {
   "cell_type": "code",
   "execution_count": null,
   "id": "b3f61803",
   "metadata": {},
   "outputs": [],
   "source": [
    "# Array indexingL select the first two values of the linspace array \n"
   ]
  },
  {
   "cell_type": "code",
   "execution_count": null,
   "id": "f2f5379d",
   "metadata": {},
   "outputs": [],
   "source": [
    "# Array indexing: select the last three values of the linspace array \n"
   ]
  },
  {
   "cell_type": "code",
   "execution_count": null,
   "id": "cd034532",
   "metadata": {},
   "outputs": [],
   "source": [
    "# Array slicing ND matrix, use the above created array (4, 10, 10) \n",
    "# and select the 2D subset - the first element of the first dim. and the full second and third dimension\n"
   ]
  },
  {
   "cell_type": "code",
   "execution_count": null,
   "id": "7c135cb9",
   "metadata": {},
   "outputs": [],
   "source": [
    "# Simple aritmetics: add the first two \"bands\" of the (4, 10, 10) array\n",
    "# Suppose the first dimention defines the 'bands'\n"
   ]
  },
  {
   "cell_type": "code",
   "execution_count": null,
   "id": "c89ef64b",
   "metadata": {},
   "outputs": [],
   "source": [
    "# Dot product \n",
    "# create two vectors a and b with three random variables\n",
    "# calculate a dot product c = (a1 x b1 + a2 x b2 + a3 x b3)\n"
   ]
  },
  {
   "cell_type": "code",
   "execution_count": null,
   "id": "bfe99528",
   "metadata": {},
   "outputs": [],
   "source": [
    "# Vector - scalar multiplication: a * s\n",
    "s = 100\n"
   ]
  },
  {
   "cell_type": "code",
   "execution_count": null,
   "id": "b491ffb9",
   "metadata": {},
   "outputs": [],
   "source": [
    "# Matrix - matrix arithmetic: create two 2D matrices of shape (3, 3), add them together\n"
   ]
  }
 ],
 "metadata": {
  "kernelspec": {
   "display_name": "Python 3 (ipykernel)",
   "language": "python",
   "name": "python3"
  },
  "language_info": {
   "codemirror_mode": {
    "name": "ipython",
    "version": 3
   },
   "file_extension": ".py",
   "mimetype": "text/x-python",
   "name": "python",
   "nbconvert_exporter": "python",
   "pygments_lexer": "ipython3",
   "version": "3.9.10"
  }
 },
 "nbformat": 4,
 "nbformat_minor": 5
}
