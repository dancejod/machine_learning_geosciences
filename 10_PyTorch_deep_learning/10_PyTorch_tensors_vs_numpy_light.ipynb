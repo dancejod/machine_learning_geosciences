{
 "cells": [
  {
   "cell_type": "markdown",
   "id": "4408fd59",
   "metadata": {},
   "source": [
    "___\n",
    "\n",
    "# Machine Learning in Geosciences ] \n",
    "Department of Applied Geoinformatics and Carthography, Charles University\n",
    "\n",
    "Lukas Brodsky lukas.brodsky@natur.cuni.cz\n"
   ]
  },
  {
   "cell_type": "markdown",
   "id": "419e259d",
   "metadata": {},
   "source": [
    "### PyTorch installation\n",
    "\n",
    "`pip install torch`\n",
    "`pip install torchvision`"
   ]
  },
  {
   "cell_type": "markdown",
   "id": "6aff0d45",
   "metadata": {},
   "source": [
    "### PyTorch tensor"
   ]
  },
  {
   "cell_type": "markdown",
   "id": "5d80faf1",
   "metadata": {},
   "source": [
    "Tensors are the building blocks for representing data in PyThorch. It is the fundamental data structure. The term `tensor` comes bundled with the notion of spaces. In this context of deep learning, tensors refer to the generalization of vectors and matrices to an arbitrary number of dimensions. \n",
    "\n",
    "The torch package contains not only the data structures for **multi-dimensional arrays** but also defines mathematical operations over these tensors. Additionally, it provides many utilities for efficient serializing of Tensors and arbitrary types, and other useful utilities."
   ]
  },
  {
   "cell_type": "markdown",
   "id": "323a900d",
   "metadata": {},
   "source": [
    "### PyTorch tensor vs. NumPy array\n",
    "\n",
    "What is the difference between numpy array and pytorch tensor?\n",
    "\n",
    "1. The numpy arrays are the core functionality of the numpy package designed to support faster mathematical operations. Pytorch tensors are similar to numpy arrays, but can also be operated on CUDA-capable Nvidia GPU.\n",
    "   \n",
    "   \n",
    "2. Numpy arrays are mainly used in typical machine learning algorithms. Pytorch tensors are mainly used in deep learning which requires heavy matrix computation.\n",
    "\n",
    "3. Unlike numpy arrays, while creating pytorch tensor, it also accepts two other arguments called the device_type (whether the computation happens on CPU or GPU) and the requires_grad (which is used to compute the derivatives)."
   ]
  },
  {
   "cell_type": "markdown",
   "id": "0db7fd29",
   "metadata": {},
   "source": [
    "### PyTorch API\n",
    "\n",
    "The PyTorch API establish a few directions on where to find things in the documentation (https://pytorch.org/docs/stable/index.html). "
   ]
  },
  {
   "cell_type": "markdown",
   "id": "30c1bb00",
   "metadata": {},
   "source": [
    "**Topics covered**: \n",
    "\n",
    "    1. What is the difference between numpy array and pytorch tensor?\n",
    "\n",
    "    2. How to create numpy arrays and pytorch tensors. Furthermore, we will see how to perform the same operation on both data types.\n",
    "    \n",
    "    "
   ]
  },
  {
   "cell_type": "code",
   "execution_count": null,
   "id": "d19fbd53",
   "metadata": {},
   "outputs": [],
   "source": [
    "import torch \n",
    "import numpy as np"
   ]
  },
  {
   "cell_type": "markdown",
   "id": "53b11e3c",
   "metadata": {},
   "source": [
    "### Constructors"
   ]
  },
  {
   "cell_type": "code",
   "execution_count": null,
   "id": "ae7f2dec",
   "metadata": {},
   "outputs": [],
   "source": [
    "# NumPy\n",
    "array1 = np.array([1,2,3,4])\n",
    "# from list\n",
    "list1 = [[1,2,3,4],[5,6,7,8]]\n",
    "array2 = np.array(list1)\n",
    "# casting data type\n",
    "array3 = np.array([1,2,3,4], dtype=np.float64)\n",
    "type(array1), array1.dtype"
   ]
  },
  {
   "cell_type": "code",
   "execution_count": null,
   "id": "d637ea14",
   "metadata": {},
   "outputs": [],
   "source": [
    "# PyTorch Tensor \n",
    "tensor1 = torch.tensor([1,2,3,4])\n",
    "# from list\n",
    "numpy_arr1 = np.array([11,21,322])\n",
    "tensor2 = torch.tensor(numpy_arr1)\n",
    "type(tensor1), tensor1.dtype"
   ]
  },
  {
   "cell_type": "code",
   "execution_count": null,
   "id": "8c07810d",
   "metadata": {},
   "outputs": [],
   "source": [
    "# from tensor to array \n",
    "numpy_arr = tensor1.numpy()\n",
    "numpy_arr"
   ]
  },
  {
   "cell_type": "code",
   "execution_count": null,
   "id": "aed23121",
   "metadata": {},
   "outputs": [],
   "source": [
    "# see what happen if you overwrite element in array\n",
    "numpy_arr[1] = 999\n",
    "tensor1, numpy_arr"
   ]
  },
  {
   "cell_type": "code",
   "execution_count": null,
   "id": "06641527",
   "metadata": {},
   "outputs": [],
   "source": [
    "# from array to tensor \n",
    "array1_tensor = torch.from_numpy(array1)\n",
    "array1_tensor"
   ]
  },
  {
   "cell_type": "markdown",
   "id": "b8b62900",
   "metadata": {},
   "source": [
    "### Random function"
   ]
  },
  {
   "cell_type": "code",
   "execution_count": null,
   "id": "079bfcc3",
   "metadata": {},
   "outputs": [],
   "source": [
    "np.random.rand(2, 3) # numpy way"
   ]
  },
  {
   "cell_type": "code",
   "execution_count": null,
   "id": "47bf35bf",
   "metadata": {},
   "outputs": [],
   "source": [
    "torch.rand(2, 3) # pytorch way"
   ]
  },
  {
   "cell_type": "markdown",
   "id": "871dddfd",
   "metadata": {},
   "source": [
    "### Seed function"
   ]
  },
  {
   "cell_type": "code",
   "execution_count": null,
   "id": "ba64a42e",
   "metadata": {},
   "outputs": [],
   "source": [
    "np.random.seed(42)\n",
    "np.random.rand(2)"
   ]
  },
  {
   "cell_type": "code",
   "execution_count": null,
   "id": "3bcdfcc6",
   "metadata": {},
   "outputs": [],
   "source": [
    "torch.manual_seed(42) # for both CPU and CUDA\n",
    "torch.rand(2)"
   ]
  },
  {
   "cell_type": "markdown",
   "id": "a781d92d",
   "metadata": {},
   "source": [
    "### Reshaping the array"
   ]
  },
  {
   "cell_type": "code",
   "execution_count": null,
   "id": "e3098d59",
   "metadata": {},
   "outputs": [],
   "source": [
    "# numpy approach \n",
    "np_arr = np.array([1, 2, 3, 4, 5, 6, 7, 8])\n",
    "np_arr.shape"
   ]
  },
  {
   "cell_type": "code",
   "execution_count": null,
   "id": "64293432",
   "metadata": {},
   "outputs": [],
   "source": [
    "new_arr = np_arr.reshape(2, 2, -1) \n",
    "new_arr.shape"
   ]
  },
  {
   "cell_type": "code",
   "execution_count": null,
   "id": "1472945a",
   "metadata": {},
   "outputs": [],
   "source": [
    "new_arr"
   ]
  },
  {
   "cell_type": "code",
   "execution_count": null,
   "id": "0bec2a89",
   "metadata": {},
   "outputs": [],
   "source": [
    "# reshape tensor \n",
    "tensor1 = torch.tensor([1, 2, 3, 4, 5, 6, 7, 8])\n",
    "tensor1.reshape(2, 2, -1)"
   ]
  },
  {
   "cell_type": "markdown",
   "id": "82cd3ec4",
   "metadata": {},
   "source": [
    "Note that there are two functions in pytorch to `reshape` the array. One is `permute` which basically permutes the dimensions without changing the data ordering and other is reshape which just changes the size to the desired size and so the ordering of elements get changed."
   ]
  },
  {
   "cell_type": "code",
   "execution_count": null,
   "id": "059e9ce7",
   "metadata": {},
   "outputs": [],
   "source": [
    "x = torch.randn(2, 5)\n",
    "x"
   ]
  },
  {
   "cell_type": "code",
   "execution_count": null,
   "id": "b30ac843",
   "metadata": {},
   "outputs": [],
   "source": [
    "x.permute(0, 1)"
   ]
  },
  {
   "cell_type": "code",
   "execution_count": null,
   "id": "662a86df",
   "metadata": {},
   "outputs": [],
   "source": [
    "x.permute(1, 0)"
   ]
  },
  {
   "cell_type": "code",
   "execution_count": null,
   "id": "b87105bb",
   "metadata": {},
   "outputs": [],
   "source": [
    "# reshape method has changes the order of elements\n",
    "x.reshape(5, 2)"
   ]
  },
  {
   "cell_type": "code",
   "execution_count": null,
   "id": "230da9ec",
   "metadata": {},
   "outputs": [],
   "source": [
    "x.storage()"
   ]
  },
  {
   "cell_type": "markdown",
   "id": "2889cab7",
   "metadata": {},
   "source": [
    "### Slicing the arrays"
   ]
  },
  {
   "cell_type": "code",
   "execution_count": null,
   "id": "88043f28",
   "metadata": {},
   "outputs": [],
   "source": [
    "x = torch.rand(3, 4)\n",
    "x[:, 2] = 23 # Replace every element of third column to 23\n",
    "print(x)"
   ]
  },
  {
   "cell_type": "code",
   "execution_count": null,
   "id": "a320bca2",
   "metadata": {},
   "outputs": [],
   "source": [
    "y = np.random.rand(3, 4)\n",
    "y[:, 2] = 223 # Replace every element of third column to 223\n",
    "print(y)"
   ]
  },
  {
   "cell_type": "code",
   "execution_count": null,
   "id": "1ab880ea",
   "metadata": {},
   "outputs": [],
   "source": [
    "x[0] = 999 # Replace every element of first row to 999\n",
    "print(x)"
   ]
  },
  {
   "cell_type": "code",
   "execution_count": null,
   "id": "fe0802d5",
   "metadata": {},
   "outputs": [],
   "source": [
    "y[0] = 9999 # Replace every element of first row to 9999\n",
    "print(y)"
   ]
  },
  {
   "cell_type": "code",
   "execution_count": null,
   "id": "06782bbb",
   "metadata": {},
   "outputs": [],
   "source": []
  }
 ],
 "metadata": {
  "kernelspec": {
   "display_name": "Python 3 (ipykernel)",
   "language": "python",
   "name": "python3"
  },
  "language_info": {
   "codemirror_mode": {
    "name": "ipython",
    "version": 3
   },
   "file_extension": ".py",
   "mimetype": "text/x-python",
   "name": "python",
   "nbconvert_exporter": "python",
   "pygments_lexer": "ipython3",
   "version": "3.9.10"
  }
 },
 "nbformat": 4,
 "nbformat_minor": 5
}
