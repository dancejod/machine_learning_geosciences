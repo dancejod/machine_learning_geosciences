{
 "cells": [
  {
   "cell_type": "markdown",
   "id": "7cd032ac",
   "metadata": {},
   "source": [
    "# ___\n",
    "\n",
    "# [ Machine Learning in Geosciences ]\n",
    "\n",
    "**Department of Applied Geoinformatics and Carthography, Charles University** \n",
    "\n",
    "*Lukas Brodsky lukas.brodsky@natur.cuni.cz*\n",
    "\n",
    "    \n",
    "___"
   ]
  },
  {
   "cell_type": "markdown",
   "id": "ffa00fd8",
   "metadata": {},
   "source": [
    "# Multilayer Neural Network "
   ]
  },
  {
   "cell_type": "markdown",
   "id": "38f6afb9",
   "metadata": {},
   "source": [
    "The purpose of this notebook is to demosnstrate the multilayer neural network. "
   ]
  },
  {
   "cell_type": "code",
   "execution_count": null,
   "id": "b7eb33d2",
   "metadata": {},
   "outputs": [],
   "source": [
    "import numpy as np\n",
    "import torch\n",
    "from torch import nn\n",
    "import torch.nn.functional as F\n",
    "from torch.autograd import Variable\n",
    "from torch.utils.data import DataLoader\n",
    "import matplotlib.pyplot as plt"
   ]
  },
  {
   "cell_type": "code",
   "execution_count": null,
   "id": "5a731af3",
   "metadata": {},
   "outputs": [],
   "source": [
    "# Data\n",
    "num_points = 1000 \n",
    "torch.manual_seed(0)\n",
    "x = torch.rand(num_points, 1)\n",
    "x, indices  = torch.sort(x, 0)\n",
    "noise = torch.rand_like(x) * .7\n",
    "y = .5 * (x*6).sin() + x + (x - .75) * noise"
   ]
  },
  {
   "cell_type": "code",
   "execution_count": null,
   "id": "867a1547",
   "metadata": {},
   "outputs": [],
   "source": [
    "print(x.shape)\n",
    "print(y.shape)"
   ]
  },
  {
   "cell_type": "code",
   "execution_count": null,
   "id": "831c2dc7",
   "metadata": {},
   "outputs": [],
   "source": [
    "plt.scatter(x, y)\n",
    "plt.show()"
   ]
  },
  {
   "cell_type": "markdown",
   "id": "c7acc4f6",
   "metadata": {},
   "source": [
    "### The model "
   ]
  },
  {
   "cell_type": "code",
   "execution_count": null,
   "id": "56d8a9b4",
   "metadata": {},
   "outputs": [],
   "source": [
    "class Linear(nn.Module):\n",
    "    def __init__(self):\n",
    "        super(Linear, self).__init__()\n",
    "        # inpt size, output size\n",
    "        self.layer = torch.nn.Linear(1, 1)\n",
    "    \n",
    "    def forward(self, x):\n",
    "        x = self.layer(x)\n",
    "        return x"
   ]
  },
  {
   "cell_type": "code",
   "execution_count": null,
   "id": "de85cb34",
   "metadata": {},
   "outputs": [],
   "source": [
    "# Nonlinear model with two hidden layers \n",
    "class NonLinear(nn.Module):\n",
    "    def __init__(self, num_features):\n",
    "        super(NonLinear, self).__init__()\n",
    "        \n",
    "        self.nn_block = nn.Sequential(\n",
    "            nn.Linear(num_features, 16),  # input layer\n",
    "            nn.ReLU(),                    # non-inearity \n",
    "            nn.Linear(16, 32),            # hidden layer 1\n",
    "            nn.ReLU(),                    # non-inearity \n",
    "            nn.Linear(32, 16),            # hidden layer 2\n",
    "            nn.ReLU(),                    # non-inearity \n",
    "            nn.Linear(16, 1)              # output layer \n",
    "        )\n",
    "\n",
    "    def forward(self, inputs):\n",
    "        x = self.nn_block(inputs)\n",
    "        \n",
    "        return (x)"
   ]
  },
  {
   "cell_type": "code",
   "execution_count": null,
   "id": "e112068e",
   "metadata": {},
   "outputs": [],
   "source": [
    "# instantiate the model\n",
    "# net = Linear()\n",
    "net = NonLinear(1)\n",
    "print(net)"
   ]
  },
  {
   "cell_type": "code",
   "execution_count": null,
   "id": "7fa008ab",
   "metadata": {},
   "outputs": [],
   "source": [
    "# optimization \n",
    "learning_rate = 0.1\n",
    "epoches = 3000\n",
    "\n",
    "# loss: regression -> MSE\n",
    "loss_func = torch.nn.MSELoss()\n",
    "\n",
    "# optimizer: stochastic gradient descent \n",
    "optimizer = torch.optim.SGD(net.parameters(), lr=learning_rate)"
   ]
  },
  {
   "cell_type": "code",
   "execution_count": null,
   "id": "0e45782a",
   "metadata": {},
   "outputs": [],
   "source": [
    "# tarining\n",
    "inputs = Variable(x)\n",
    "outputs = Variable(y)\n",
    "\n",
    "for i in range(epoches):\n",
    "    prediction = net(inputs)\n",
    "    loss = loss_func(prediction, outputs)\n",
    "    optimizer.zero_grad()\n",
    "    loss.backward()\n",
    "    optimizer.step()\n",
    "\n",
    "    if i % 100 == 0:\n",
    "        plt.cla()\n",
    "        plt.scatter(x.data.numpy(), y.data.numpy())\n",
    "        plt.plot(x.data.numpy(), prediction.data.numpy(), 'r-', lw=2)\n",
    "        plt.text(0.3, 0, 'Loss=%.4f' % loss.data.numpy(), fontdict={'size': 10, 'color':  'red'})\n",
    "        plt.pause(0.01)\n",
    "\n",
    "plt.show()"
   ]
  },
  {
   "cell_type": "code",
   "execution_count": null,
   "id": "6591056b",
   "metadata": {},
   "outputs": [],
   "source": []
  }
 ],
 "metadata": {
  "kernelspec": {
   "display_name": "Python 3 (ipykernel)",
   "language": "python",
   "name": "python3"
  },
  "language_info": {
   "codemirror_mode": {
    "name": "ipython",
    "version": 3
   },
   "file_extension": ".py",
   "mimetype": "text/x-python",
   "name": "python",
   "nbconvert_exporter": "python",
   "pygments_lexer": "ipython3",
   "version": "3.9.10"
  }
 },
 "nbformat": 4,
 "nbformat_minor": 5
}
