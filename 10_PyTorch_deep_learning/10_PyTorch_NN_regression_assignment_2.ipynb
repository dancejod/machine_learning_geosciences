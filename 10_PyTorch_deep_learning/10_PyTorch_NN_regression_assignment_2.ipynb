{
 "cells": [
  {
   "cell_type": "markdown",
   "id": "73cdbcc1",
   "metadata": {},
   "source": [
    "# ___\n",
    "\n",
    "# [ Machine Learning in Geosciences ]\n",
    "\n",
    "\n",
    "### Assignment #2\n",
    "\n",
    "**Your Name**\n",
    "\n",
    "*Email*\n",
    "\n",
    "    \n",
    "___"
   ]
  },
  {
   "cell_type": "markdown",
   "id": "35b4904f",
   "metadata": {},
   "source": [
    "## Assignment task\n",
    "\n",
    "1/ Develop a Neural Network model in PyTorch to fit a modl to the blow given data. It is non-linear regression task.  \n",
    "\n",
    "2/ Find the best depth of the model in order to minimize the error (MSE) but assuring the model generalize well on test data as well. "
   ]
  },
  {
   "cell_type": "code",
   "execution_count": 1,
   "id": "b7eb33d2",
   "metadata": {},
   "outputs": [],
   "source": [
    "import numpy as np\n",
    "import torch\n",
    "from torch import nn\n",
    "import torch.nn.functional as F\n",
    "from torch.autograd import Variable\n",
    "from torch.utils.data import DataLoader\n",
    "import matplotlib.pyplot as plt"
   ]
  },
  {
   "cell_type": "code",
   "execution_count": 2,
   "id": "e43ce4f5",
   "metadata": {},
   "outputs": [],
   "source": [
    "# Data \n",
    "x = np.arange(-1.2, 1.8, 0.01)\n",
    "y = (x**6) - (x**5) - (x**4) - (x**3) - (x**2) - x \n",
    "noise = 0.4 * np.random.normal(size=x.size)\n",
    "data = y + noise"
   ]
  },
  {
   "cell_type": "code",
   "execution_count": 3,
   "id": "d42d387f",
   "metadata": {},
   "outputs": [
    {
     "data": {
      "image/png": "[encoded data removed]",
      "text/plain": [
       "<Figure size 432x288 with 1 Axes>"
      ]
     },
     "metadata": {
      "needs_background": "light"
     },
     "output_type": "display_data"
    }
   ],
   "source": [
    "# Plotting the simulated data\n",
    "plt.scatter(x,data)\n",
    "# plt.plot(x, y, 'r--')\n",
    "plt.show()"
   ]
  },
  {
   "cell_type": "code",
   "execution_count": 17,
   "id": "867a1547",
   "metadata": {},
   "outputs": [],
   "source": [
    "# Check the shape \n",
    "pass"
   ]
  },
  {
   "cell_type": "markdown",
   "id": "c7acc4f6",
   "metadata": {},
   "source": [
    "### Develop the model "
   ]
  },
  {
   "cell_type": "code",
   "execution_count": 18,
   "id": "de85cb34",
   "metadata": {},
   "outputs": [],
   "source": [
    "# This is a template of the NN model \n",
    "class NonLinear(nn.Module):\n",
    "    def __init__(self, num_features):\n",
    "        super(NonLinear, self).__init__()        \n",
    "        pass\n",
    "    \n",
    "    def forward(self, inputs):\n",
    "        pass\n",
    "        \n",
    "        return (outputs)\n",
    "    "
   ]
  },
  {
   "cell_type": "code",
   "execution_count": 19,
   "id": "7ccb9c23",
   "metadata": {},
   "outputs": [],
   "source": [
    "# instantiate the model\n",
    "pass"
   ]
  },
  {
   "cell_type": "code",
   "execution_count": 20,
   "id": "7fa008ab",
   "metadata": {},
   "outputs": [],
   "source": [
    "# prepare optimization \n",
    "\n",
    "# paramrters\n",
    "# learning_rate = ... \n",
    "# epoches = ... \n",
    "\n",
    "# loss function for regression: MSE\n",
    "# loss = ... \n",
    "\n",
    "# optimizer: e.g. stochastic gradient descent \n",
    "# optimizer = ...  "
   ]
  },
  {
   "cell_type": "code",
   "execution_count": 21,
   "id": "07ece49f",
   "metadata": {},
   "outputs": [],
   "source": [
    "# prepare inputs and outputs: fonvert to torch tensors and reshape it \n",
    "inputs = Variable(torch.from_numpy(x).reshape(-1, 1))     # x\n",
    "outputs = Variable(torch.from_numpy(data).reshape(-1, 1)) # y "
   ]
  },
  {
   "cell_type": "code",
   "execution_count": 22,
   "id": "e4a86ea4",
   "metadata": {},
   "outputs": [],
   "source": [
    "# needs to get tensor float 32-bit data types \n",
    "inputs = inputs.to(torch.float32)\n",
    "outputs = outputs.to(torch.float32)"
   ]
  },
  {
   "cell_type": "markdown",
   "id": "718de6c4",
   "metadata": {},
   "source": [
    "### Train the model"
   ]
  },
  {
   "cell_type": "code",
   "execution_count": 23,
   "id": "0e45782a",
   "metadata": {},
   "outputs": [],
   "source": [
    "# tarining in number of epoches \n",
    "\n",
    "pass \n"
   ]
  },
  {
   "cell_type": "code",
   "execution_count": 24,
   "id": "6591056b",
   "metadata": {},
   "outputs": [],
   "source": [
    "# show the resulting regression plot\n",
    "pass "
   ]
  },
  {
   "cell_type": "code",
   "execution_count": 25,
   "id": "2f1246c4",
   "metadata": {},
   "outputs": [],
   "source": [
    "# plot the progress of loss function\n",
    "pass "
   ]
  }
 ],
 "metadata": {
  "kernelspec": {
   "display_name": "Python 3 (ipykernel)",
   "language": "python",
   "name": "python3"
  },
  "language_info": {
   "codemirror_mode": {
    "name": "ipython",
    "version": 3
   },
   "file_extension": ".py",
   "mimetype": "text/x-python",
   "name": "python",
   "nbconvert_exporter": "python",
   "pygments_lexer": "ipython3",
   "version": "3.9.10"
  }
 },
 "nbformat": 4,
 "nbformat_minor": 5
}
