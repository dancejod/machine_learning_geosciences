{
 "cells": [
  {
   "cell_type": "markdown",
   "id": "3bac610b",
   "metadata": {},
   "source": [
    "# ___\n",
    "\n",
    "# [ Machine Learning in Geosciences ]\n",
    "\n",
    "**Department of Applied Geoinformatics and Carthography, Charles University** \n",
    "\n",
    "*Lukas Brodsky lukas.brodsky@natur.cuni.cz*\n",
    "\n",
    "    \n",
    "___"
   ]
  },
  {
   "cell_type": "markdown",
   "id": "1762b994",
   "metadata": {},
   "source": [
    "# The Perceptron model in PyTorch"
   ]
  },
  {
   "cell_type": "markdown",
   "id": "60b8400b",
   "metadata": {},
   "source": [
    "The purpose of this notebook is to demonstrate PyTorch implementation of single Perceptron model. "
   ]
  },
  {
   "cell_type": "code",
   "execution_count": null,
   "id": "42b1ad24",
   "metadata": {},
   "outputs": [],
   "source": [
    "import torch \n",
    "import torch.nn as nn\n",
    "import matplotlib.pyplot as plt"
   ]
  },
  {
   "cell_type": "code",
   "execution_count": null,
   "id": "ad583f5e",
   "metadata": {},
   "outputs": [],
   "source": [
    "class Perceprtron(nn.Module): \n",
    "    def __init__(self, inputs):\n",
    "        super().__init__()\n",
    "        # initialize weights and bias\n",
    "        self.W = torch.rand([inputs.size()[0]])\n",
    "        self.b = torch.rand([1]) \n",
    "        # initialize inputs \n",
    "        self.inputs = inputs \n",
    "        \n",
    "    def forward(self): \n",
    "        z = torch.matmul(self.inputs, self.W) + self.b \n",
    "        # feed through a non-linear activation \n",
    "        activation = nn.Sigmoid() \n",
    "        output = activation(z)        \n",
    "        \n",
    "        return output \n",
    "        "
   ]
  },
  {
   "cell_type": "code",
   "execution_count": null,
   "id": "6b578a68",
   "metadata": {},
   "outputs": [],
   "source": [
    "# inputs definition\n",
    "X = torch.tensor([2, 3], dtype=torch.float)"
   ]
  },
  {
   "cell_type": "code",
   "execution_count": null,
   "id": "86dafc42",
   "metadata": {},
   "outputs": [],
   "source": [
    "model = Perceprtron(X)"
   ]
  },
  {
   "cell_type": "code",
   "execution_count": null,
   "id": "ade25e0a",
   "metadata": {
    "scrolled": true
   },
   "outputs": [],
   "source": [
    "model.forward()"
   ]
  }
 ],
 "metadata": {
  "kernelspec": {
   "display_name": "Python 3 (ipykernel)",
   "language": "python",
   "name": "python3"
  },
  "language_info": {
   "codemirror_mode": {
    "name": "ipython",
    "version": 3
   },
   "file_extension": ".py",
   "mimetype": "text/x-python",
   "name": "python",
   "nbconvert_exporter": "python",
   "pygments_lexer": "ipython3",
   "version": "3.9.10"
  }
 },
 "nbformat": 4,
 "nbformat_minor": 5
}
